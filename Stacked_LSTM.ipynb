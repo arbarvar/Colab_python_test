{
  "nbformat": 4,
  "nbformat_minor": 0,
  "metadata": {
    "kernelspec": {
      "display_name": "Python 3",
      "language": "python",
      "name": "python3"
    },
    "language_info": {
      "codemirror_mode": {
        "name": "ipython",
        "version": 3
      },
      "file_extension": ".py",
      "mimetype": "text/x-python",
      "name": "python",
      "nbconvert_exporter": "python",
      "pygments_lexer": "ipython3",
      "version": "3.6.9"
    },
    "colab": {
      "name": "Stacked_LSTM.ipynb",
      "provenance": [],
      "include_colab_link": true
    }
  },
  "cells": [
    {
      "cell_type": "markdown",
      "metadata": {
        "id": "view-in-github",
        "colab_type": "text"
      },
      "source": [
        "<a href=\"https://colab.research.google.com/github/arbarvar/Colab_python_test/blob/main/Stacked_LSTM.ipynb\" target=\"_parent\"><img src=\"https://colab.research.google.com/assets/colab-badge.svg\" alt=\"Open In Colab\"/></a>"
      ]
    },
    {
      "cell_type": "markdown",
      "metadata": {
        "id": "nzp5zOgjtA7R"
      },
      "source": [
        "### Stock Market Prediction And Forecasting Using Stacked LSTM"
      ]
    },
    {
      "cell_type": "code",
      "metadata": {
        "id": "J6QF4kcXtA7S"
      },
      "source": [
        "### Keras and Tensorflow >2.0"
      ],
      "execution_count": null,
      "outputs": []
    },
    {
      "cell_type": "code",
      "metadata": {
        "id": "giBT5sG0tA7T"
      },
      "source": [
        "### Data Collection\n",
        "#import pandas_datareader as pdr #change by me\n",
        "#key=\"\" #change by me"
      ],
      "execution_count": 1,
      "outputs": []
    },
    {
      "cell_type": "code",
      "metadata": {
        "id": "efc5CHqitA7T"
      },
      "source": [
        "#df = pdr.get_data_tiingo('AAPL', api_key=key) change by me"
      ],
      "execution_count": null,
      "outputs": []
    },
    {
      "cell_type": "code",
      "metadata": {
        "id": "_bVkOPbetA7T"
      },
      "source": [
        "#df.to_csv('AAPL.csv') #change by me"
      ],
      "execution_count": null,
      "outputs": []
    },
    {
      "cell_type": "code",
      "metadata": {
        "id": "S2fug75jFkMe"
      },
      "source": [
        "#import libreries needed to load a csv file add by me\n",
        "import pandas as pd\n",
        "from google.colab import files"
      ],
      "execution_count": 58,
      "outputs": []
    },
    {
      "cell_type": "code",
      "metadata": {
        "colab": {
          "resources": {
            "http://localhost:8080/nbextensions/google.colab/files.js": {
              "data": "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",
              "ok": true,
              "headers": [
                [
                  "content-type",
                  "application/javascript"
                ]
              ],
              "status": 200,
              "status_text": ""
            }
          },
          "base_uri": "https://localhost:8080/",
          "height": 111
        },
        "id": "uTU84mD1FvbF",
        "outputId": "90fc108e-1e85-4c2d-b045-6b81de94500a"
      },
      "source": [
        "# load data from csv add by me\n",
        "files.upload()"
      ],
      "execution_count": 59,
      "outputs": [
        {
          "output_type": "display_data",
          "data": {
            "text/html": [
              "\n",
              "     <input type=\"file\" id=\"files-2cb4ccfe-40bc-4c0a-833f-385852199ee3\" name=\"files[]\" multiple disabled\n",
              "        style=\"border:none\" />\n",
              "     <output id=\"result-2cb4ccfe-40bc-4c0a-833f-385852199ee3\">\n",
              "      Upload widget is only available when the cell has been executed in the\n",
              "      current browser session. Please rerun this cell to enable.\n",
              "      </output>\n",
              "      <script src=\"/nbextensions/google.colab/files.js\"></script> "
            ],
            "text/plain": [
              "<IPython.core.display.HTML object>"
            ]
          },
          "metadata": {
            "tags": []
          }
        },
        {
          "output_type": "stream",
          "text": [
            "Saving AAPL.csv to AAPL (2).csv\n"
          ],
          "name": "stdout"
        },
        {
          "output_type": "execute_result",
          "data": {
            "text/plain": [
              "{'AAPL.csv': b'Date,Open,High,Low,Close,Adj Close,Volume\\n2019-11-29,66.650002,67.000000,66.474998,66.812500,65.702515,46617600\\n2019-12-02,66.817497,67.062500,65.862503,66.040001,64.942841,94487200\\n2019-12-03,64.577499,64.882500,64.072502,64.862503,63.784916,114430400\\n2019-12-04,65.267502,65.827499,65.169998,65.434998,64.347893,67181600\\n2019-12-05,65.947502,66.472504,65.682503,66.394997,65.291946,74424400\\n2019-12-06,66.870003,67.750000,66.824997,67.677498,66.553131,106075600\\n2019-12-09,67.500000,67.699997,66.227501,66.730003,65.621384,128042400\\n2019-12-10,67.150002,67.517502,66.464996,67.120003,66.004898,90420400\\n2019-12-11,67.202499,67.775002,67.125000,67.692497,66.567886,78756800\\n2019-12-12,66.945000,68.139999,66.830002,67.864998,66.737518,137310400\\n2019-12-13,67.864998,68.824997,67.732498,68.787498,67.644707,133587600\\n2019-12-16,69.250000,70.197502,69.245003,69.964996,68.802635,128186000\\n2019-12-17,69.892502,70.442497,69.699997,70.102501,68.937851,114158400\\n2019-12-18,69.949997,70.474998,69.779999,69.934998,68.773132,116028400\\n2019-12-19,69.875000,70.294998,69.737503,70.004997,68.841965,98369200\\n2019-12-20,70.557503,70.662498,69.639999,69.860001,68.699387,275978000\\n2019-12-23,70.132500,71.062500,70.092499,71.000000,69.820442,98572000\\n2019-12-24,71.172501,71.222504,70.730003,71.067497,69.886818,48478800\\n2019-12-26,71.205002,72.495003,71.175003,72.477501,71.273392,93121200\\n2019-12-27,72.779999,73.492500,72.029999,72.449997,71.246353,146266000\\n2019-12-30,72.364998,73.172501,71.305000,72.879997,71.669212,144114400\\n2019-12-31,72.482498,73.419998,72.379997,73.412498,72.192863,100805600\\n2020-01-02,74.059998,75.150002,73.797501,75.087502,73.840042,135480400\\n2020-01-03,74.287498,75.144997,74.125000,74.357498,73.122154,146322800\\n2020-01-06,73.447502,74.989998,73.187500,74.949997,73.704819,118387200\\n2020-01-07,74.959999,75.224998,74.370003,74.597504,73.358185,108872000\\n2020-01-08,74.290001,76.110001,74.290001,75.797501,74.538239,132079200\\n2020-01-09,76.809998,77.607498,76.550003,77.407501,76.121498,170108400\\n2020-01-10,77.650002,78.167503,77.062500,77.582497,76.293579,140644800\\n2020-01-13,77.910004,79.267502,77.787498,79.239998,77.923538,121532000\\n2020-01-14,79.175003,79.392502,78.042503,78.169998,76.871323,161954400\\n2020-01-15,77.962502,78.875000,77.387497,77.834999,76.541885,121923600\\n2020-01-16,78.397499,78.925003,78.022499,78.809998,77.500694,108829200\\n2020-01-17,79.067497,79.684998,78.750000,79.682503,78.358696,137816400\\n2020-01-21,79.297501,79.754997,79.000000,79.142502,77.827667,110843200\\n2020-01-22,79.644997,79.997498,79.327499,79.425003,78.105476,101832400\\n2020-01-23,79.480003,79.889999,78.912498,79.807503,78.481621,104472000\\n2020-01-24,80.062500,80.832497,79.379997,79.577499,78.255440,146537600\\n2020-01-27,77.514999,77.942497,76.220001,77.237503,75.954315,161940000\\n2020-01-28,78.150002,79.599998,78.047501,79.422501,78.103012,162234000\\n2020-01-29,81.112503,81.962502,80.345001,81.084999,79.737900,216229200\\n2020-01-30,80.135002,81.022499,79.687500,80.967499,79.622337,126743200\\n2020-01-31,80.232498,80.669998,77.072502,77.377502,76.091995,199588400\\n2020-02-03,76.074997,78.372498,75.555000,77.165001,75.883018,173985600\\n2020-02-04,78.827499,79.910004,78.407501,79.712502,78.388199,136616400\\n2020-02-05,80.879997,81.190002,79.737503,80.362503,79.027405,118826800\\n2020-02-06,80.642502,81.305000,80.065002,81.302498,79.951775,105425600\\n2020-02-07,80.592499,80.849998,79.500000,80.007500,78.865021,117684000\\n2020-02-10,78.544998,80.387497,78.462502,80.387497,79.239594,109348800\\n2020-02-11,80.900002,80.974998,79.677498,79.902496,78.761520,94323200\\n2020-02-12,80.367500,81.805000,80.367500,81.800003,80.631927,113730400\\n2020-02-13,81.047501,81.555000,80.837502,81.217499,80.057739,94747600\\n2020-02-14,81.184998,81.495003,80.712502,81.237503,80.077461,80113600\\n2020-02-18,78.839996,79.937500,78.652496,79.750000,78.611198,152531200\\n2020-02-19,80.000000,81.142502,80.000000,80.904999,79.749702,93984000\\n2020-02-20,80.657501,81.162498,79.552498,80.074997,78.931564,100566000\\n2020-02-21,79.654999,80.112503,77.625000,78.262497,77.144943,129554000\\n2020-02-24,74.315002,76.044998,72.307503,74.544998,73.480522,222195200\\n2020-02-25,75.237503,75.632500,71.532501,72.019997,70.991577,230673600\\n2020-02-26,71.632500,74.470001,71.625000,73.162498,72.117767,198054800\\n2020-02-27,70.275002,71.500000,68.239998,68.379997,67.403557,320605600\\n2020-02-28,64.315002,69.602501,64.092499,68.339996,67.364128,426884800\\n2020-03-02,70.570000,75.360001,69.430000,74.702499,73.635773,341397200\\n2020-03-03,75.917503,76.000000,71.449997,72.330002,71.297157,319475600\\n2020-03-04,74.110001,75.849998,73.282501,75.684998,74.604240,219178400\\n2020-03-05,73.879997,74.887497,72.852501,73.230003,72.184303,187572800\\n2020-03-06,70.500000,72.705002,70.307503,72.257500,71.225685,226176800\\n2020-03-09,65.937500,69.522499,65.750000,66.542503,65.592308,286744800\\n2020-03-10,69.285004,71.610001,67.342499,71.334999,70.316368,285290000\\n2020-03-11,69.347504,70.305000,67.964996,68.857498,67.874245,255598800\\n2020-03-12,63.985001,67.500000,62.000000,62.057499,61.171341,418474000\\n2020-03-13,66.222504,69.980003,63.237499,69.492500,68.500175,370732000\\n2020-03-16,60.487499,64.769997,60.000000,60.552502,59.687832,322423600\\n2020-03-17,61.877499,64.402496,59.599998,63.215000,62.312309,324056000\\n2020-03-18,59.942501,62.500000,59.279999,61.667500,60.786911,300233600\\n2020-03-19,61.847500,63.209999,60.652500,61.195000,60.321156,271857200\\n2020-03-20,61.794998,62.957500,57.000000,57.310001,56.491634,401693200\\n2020-03-23,57.020000,57.125000,53.152500,56.092499,55.291519,336752800\\n2020-03-24,59.090000,61.922501,58.575001,61.720001,60.838661,287531200\\n2020-03-25,62.687500,64.562500,61.075001,61.380001,60.503517,303602000\\n2020-03-26,61.630001,64.669998,61.590000,64.610001,63.687393,252087200\\n2020-03-27,63.187500,63.967499,61.762501,61.935001,61.050594,204216800\\n2020-03-30,62.685001,63.880001,62.349998,63.702499,62.792850,167976400\\n2020-03-31,63.900002,65.622498,63.000000,63.572498,62.664707,197002000\\n2020-04-01,61.625000,62.180000,59.782501,60.227501,59.367474,176218400\\n2020-04-02,60.084999,61.287498,59.224998,61.232498,60.358120,165934000\\n2020-04-03,60.700001,61.424999,59.742500,60.352501,59.490692,129880000\\n2020-04-06,62.724998,65.777496,62.345001,65.617500,64.680504,201820400\\n2020-04-07,67.699997,67.925003,64.750000,64.857498,63.931355,202887200\\n2020-04-08,65.684998,66.842499,65.307503,66.517502,65.567657,168895200\\n2020-04-09,67.175003,67.517502,66.175003,66.997498,66.040802,162116400\\n2020-04-13,67.077499,68.425003,66.457497,68.312500,67.337029,131022800\\n2020-04-14,70.000000,72.062500,69.512497,71.762497,70.737755,194994800\\n2020-04-15,70.599998,71.582497,70.157501,71.107498,70.092110,131154400\\n2020-04-16,71.845001,72.050003,70.587502,71.672501,70.649040,157125200\\n2020-04-17,71.172501,71.737503,69.214996,70.699997,69.690422,215250000\\n2020-04-20,69.487503,70.419998,69.212502,69.232498,68.243881,130015200\\n2020-04-21,69.070000,69.312500,66.357498,67.092499,66.134438,180991600\\n2020-04-22,68.402496,69.474998,68.050003,69.025002,68.039352,117057200\\n2020-04-23,68.967499,70.437500,68.717499,68.757500,67.775673,124814400\\n2020-04-24,69.300003,70.752502,69.250000,70.742500,69.732323,126508800\\n2020-04-27,70.449997,71.135002,69.987503,70.792503,69.781609,117087600\\n2020-04-28,71.269997,71.457497,69.550003,69.644997,68.650490,112004800\\n2020-04-29,71.182503,72.417503,70.972504,71.932503,70.905334,137280800\\n2020-04-30,72.489998,73.632500,72.087502,73.449997,72.401154,183064000\\n2020-05-01,71.562500,74.750000,71.462502,72.267502,71.235542,60154200\\n2020-05-04,72.292503,73.422501,71.580002,73.290001,72.243446,33392000\\n2020-05-05,73.764999,75.250000,73.614998,74.389999,73.327736,36937800\\n2020-05-06,75.114998,75.809998,74.717499,75.157501,74.084282,35583400\\n2020-05-07,75.805000,76.292503,75.492500,75.934998,74.850670,28803800\\n2020-05-08,76.410004,77.587502,76.072502,77.532501,77.259674,33512000\\n2020-05-11,77.025002,79.262497,76.809998,78.752502,78.475372,36486600\\n2020-05-12,79.457497,79.922501,77.727501,77.852501,77.578537,40575300\\n2020-05-13,78.037498,78.987503,75.802498,76.912498,76.641853,50155600\\n2020-05-14,76.127502,77.447502,75.382500,77.385002,77.112686,39732300\\n2020-05-15,75.087502,76.974998,75.052498,76.927498,76.656792,41587100\\n2020-05-18,78.292503,79.125000,77.580002,78.739998,78.462914,33843100\\n2020-05-19,78.757500,79.629997,78.252502,78.285004,78.009521,25432400\\n2020-05-20,79.169998,79.879997,79.129997,79.807503,79.526665,27876200\\n2020-05-21,79.665001,80.222504,78.967499,79.212502,78.933754,25672200\\n2020-05-22,78.942497,79.807503,78.837502,79.722504,79.441963,20450800\\n2020-05-26,80.875000,81.059998,79.125000,79.182503,78.903862,31380500\\n2020-05-27,79.035004,79.677498,78.272499,79.527496,79.247643,28236300\\n2020-05-28,79.192497,80.860001,78.907501,79.562500,79.282524,33390200\\n2020-05-29,79.812500,80.287498,79.117500,79.485001,79.205299,153598000\\n2020-06-01,79.437500,80.587502,79.302498,80.462502,80.179359,80791200\\n2020-06-02,80.187500,80.860001,79.732498,80.834999,80.550545,87642800\\n2020-06-03,81.165001,81.550003,80.574997,81.279999,80.993980,104491200\\n2020-06-04,81.097504,81.404999,80.195000,80.580002,80.296448,87560400\\n2020-06-05,80.837502,82.937500,80.807503,82.875000,82.583374,137250400\\n2020-06-08,82.562500,83.400002,81.830002,83.364998,83.071640,95654400\\n2020-06-09,83.035004,86.402496,83.002502,85.997498,85.694878,147712400\\n2020-06-10,86.974998,88.692497,86.522499,88.209999,87.899590,166651600\\n2020-06-11,87.327499,87.764999,83.870003,83.974998,83.679497,201662400\\n2020-06-12,86.180000,86.949997,83.555000,84.699997,84.401947,200146000\\n2020-06-15,83.312500,86.419998,83.144997,85.747498,85.445755,138808800\\n2020-06-16,87.864998,88.300003,86.180000,88.019997,87.710258,165428800\\n2020-06-17,88.787498,88.849998,87.772499,87.897499,87.588196,114406400\\n2020-06-18,87.852501,88.362503,87.305000,87.932503,87.623077,96820400\\n2020-06-19,88.660004,89.139999,86.287498,87.430000,87.122337,264476000\\n2020-06-22,87.834999,89.864998,87.787498,89.717499,89.401787,135445200\\n2020-06-23,91.000000,93.095001,90.567497,91.632500,91.310051,212155600\\n2020-06-24,91.250000,92.197502,89.629997,90.014999,89.698242,192623200\\n2020-06-25,90.175003,91.250000,89.392502,91.209999,90.889038,137522400\\n2020-06-26,91.102501,91.330002,88.254997,88.407501,88.096405,205256800\\n2020-06-29,88.312500,90.542503,87.820000,90.445000,90.126732,130646000\\n2020-06-30,90.019997,91.495003,90.000000,91.199997,90.879066,140223200\\n2020-07-01,91.279999,91.839996,90.977501,91.027496,90.707176,110737200\\n2020-07-02,91.962502,92.617500,90.910004,91.027496,90.707176,114041600\\n2020-07-06,92.500000,93.945000,92.467499,93.462502,93.133614,118655600\\n2020-07-07,93.852501,94.654999,93.057503,93.172501,92.844635,112424400\\n2020-07-08,94.180000,95.375000,94.089996,95.342499,95.006996,117092000\\n2020-07-09,96.262497,96.317497,94.672501,95.752502,95.415558,125642800\\n2020-07-10,95.334999,95.980003,94.705002,95.919998,95.582466,90257200\\n2020-07-13,97.264999,99.955002,95.257500,95.477501,95.141525,191649200\\n2020-07-14,94.839996,97.254997,93.877502,97.057503,96.715965,170989200\\n2020-07-15,98.989998,99.247498,96.489998,97.724998,97.381111,153198000\\n2020-07-16,96.562500,97.404999,95.904999,96.522499,96.182846,110577600\\n2020-07-17,96.987503,97.147499,95.839996,96.327499,95.988533,92186800\\n2020-07-20,96.417503,98.500000,96.062500,98.357498,98.011391,90318000\\n2020-07-21,99.172501,99.250000,96.742500,97.000000,96.658661,103646000\\n2020-07-22,96.692497,97.974998,96.602501,97.272499,96.930199,89001600\\n2020-07-23,96.997498,97.077499,92.010002,92.845001,92.518288,197004400\\n2020-07-24,90.987503,92.970001,89.144997,92.614998,92.289093,185438800\\n2020-07-27,93.709999,94.904999,93.480003,94.809998,94.476364,121214000\\n2020-07-28,94.367500,94.550003,93.247498,93.252502,92.924355,103625600\\n2020-07-29,93.750000,95.230003,93.712502,95.040001,94.705559,90329200\\n2020-07-30,94.187500,96.297501,93.767502,96.190002,95.851517,158130000\\n2020-07-31,102.885002,106.415001,100.824997,106.260002,105.886086,374336800\\n2020-08-03,108.199997,111.637497,107.892502,108.937500,108.554153,308151200\\n2020-08-04,109.132500,110.790001,108.387497,109.665001,109.279099,173071600\\n2020-08-05,109.377502,110.392502,108.897499,110.062500,109.675194,121992000\\n2020-08-06,110.404999,114.412498,109.797501,113.902496,113.501678,202428800\\n2020-08-07,113.205002,113.675003,110.292503,111.112503,110.921135,198045600\\n2020-08-10,112.599998,113.775002,110.000000,112.727501,112.533356,212403600\\n2020-08-11,111.970001,112.482498,109.107498,109.375000,109.186623,187902400\\n2020-08-12,110.497498,113.275002,110.297501,113.010002,112.815369,165944800\\n2020-08-13,114.430000,116.042503,113.927498,115.010002,114.811920,210082000\\n2020-08-14,114.830002,115.000000,113.044998,114.907501,114.709602,165565200\\n2020-08-17,116.062500,116.087502,113.962502,114.607498,114.410110,119561600\\n2020-08-18,114.352501,116.000000,114.007500,115.562500,115.363472,105633600\\n2020-08-19,115.982498,117.162498,115.610001,115.707497,115.508217,145538000\\n2020-08-20,115.750000,118.392502,115.732498,118.275002,118.071297,126907200\\n2020-08-21,119.262497,124.867500,119.250000,124.370003,124.155800,338054800\\n2020-08-24,128.697495,128.785004,123.937500,125.857498,125.640739,345937600\\n2020-08-25,124.697502,125.180000,123.052498,124.824997,124.610016,211495600\\n2020-08-26,126.180000,126.992500,125.082497,126.522499,126.304596,163022400\\n2020-08-27,127.142502,127.485001,123.832497,125.010002,124.794701,155552400\\n2020-08-28,126.012497,126.442497,124.577499,124.807503,124.592552,187630000\\n2020-08-31,127.580002,131.000000,126.000000,129.039993,128.817749,225702700\\n2020-09-01,132.759995,134.800003,130.529999,134.179993,133.948898,152470100\\n2020-09-02,137.589996,137.979996,127.000000,131.399994,131.173691,200119000\\n2020-09-03,126.910004,128.839996,120.500000,120.879997,120.671806,257599600\\n2020-09-04,120.070000,123.699997,110.889999,120.959999,120.751671,332607200\\n2020-09-08,113.949997,118.989998,112.680000,112.820000,112.625694,231366600\\n2020-09-09,117.260002,119.139999,115.260002,117.320000,117.117943,176940500\\n2020-09-10,120.360001,120.500000,112.500000,113.489998,113.294540,182274400\\n2020-09-11,114.570000,115.230003,110.000000,112.000000,111.807106,180860300\\n2020-09-14,114.720001,115.930000,112.800003,115.360001,115.161316,140150100\\n2020-09-15,118.330002,118.830002,113.610001,115.540001,115.341011,184642000\\n2020-09-16,115.230003,116.000000,112.040001,112.129997,111.936882,154679000\\n2020-09-17,109.720001,112.199997,108.709999,110.339996,110.149963,178011000\\n2020-09-18,110.400002,110.879997,106.089996,106.839996,106.655991,287104900\\n2020-09-21,104.540001,110.190002,103.099998,110.080002,109.890411,195713800\\n2020-09-22,112.680000,112.860001,109.160004,111.809998,111.617432,183055400\\n2020-09-23,111.620003,112.110001,106.769997,107.120003,106.935509,150718700\\n2020-09-24,105.169998,110.250000,105.000000,108.220001,108.033615,167743300\\n2020-09-25,108.430000,112.440002,107.669998,112.279999,112.086624,149981400\\n2020-09-28,115.010002,115.320000,112.779999,114.959999,114.762009,137672400\\n2020-09-29,114.550003,115.309998,113.570000,114.089996,113.893501,99382200\\n2020-09-30,113.790001,117.260002,113.620003,115.809998,115.610542,142675200\\n2020-10-01,117.639999,117.720001,115.830002,116.790001,116.588860,116120400\\n2020-10-02,112.889999,115.370003,112.220001,113.019997,112.825348,144712000\\n2020-10-05,113.910004,116.650002,113.550003,116.500000,116.299355,106243800\\n2020-10-06,115.699997,116.120003,112.250000,113.160004,112.965111,161498200\\n2020-10-07,114.620003,115.550003,114.129997,115.080002,114.881805,96849000\\n2020-10-08,116.250000,116.400002,114.589996,114.970001,114.771988,83477200\\n2020-10-09,115.279999,117.000000,114.919998,116.970001,116.768547,100506900\\n2020-10-12,120.059998,125.180000,119.279999,124.400002,124.185753,240226800\\n2020-10-13,125.269997,125.389999,119.650002,121.099998,120.891434,262330500\\n2020-10-14,121.000000,123.029999,119.620003,121.190002,120.981277,151062300\\n2020-10-15,118.720001,121.199997,118.150002,120.709999,120.502106,112559200\\n2020-10-16,121.279999,121.550003,118.809998,119.019997,118.815010,115393800\\n2020-10-19,119.959999,120.419998,115.660004,115.980003,115.780251,120639300\\n2020-10-20,116.199997,118.980003,115.629997,117.510002,117.307617,124423700\\n2020-10-21,116.669998,118.709999,116.449997,116.870003,116.668724,89946000\\n2020-10-22,117.449997,118.040001,114.589996,115.750000,115.550644,101988000\\n2020-10-23,116.389999,116.550003,114.279999,115.040001,114.841873,82572600\\n2020-10-26,114.010002,116.550003,112.879997,115.050003,114.851852,111850700\\n2020-10-27,115.489998,117.279999,114.540001,116.599998,116.399178,92276800\\n2020-10-28,115.050003,115.430000,111.099998,111.199997,111.008476,143937800\\n2020-10-29,112.370003,116.930000,112.199997,115.320000,115.121384,146129200\\n2020-10-30,111.059998,111.989998,107.720001,108.860001,108.672516,190272600\\n2020-11-02,109.110001,110.680000,107.320000,108.769997,108.582664,122866900\\n2020-11-03,109.660004,111.489998,108.730003,110.440002,110.249794,107624400\\n2020-11-04,114.139999,115.589996,112.349998,114.949997,114.752022,138235500\\n2020-11-05,117.949997,119.620003,116.870003,119.029999,118.824997,126387100\\n2020-11-06,118.320000,119.199997,116.129997,118.690002,118.690002,114457900\\n2020-11-09,120.500000,121.989998,116.050003,116.320000,116.320000,154515300\\n2020-11-10,115.550003,117.589996,114.129997,115.970001,115.970001,138023400\\n2020-11-11,117.190002,119.629997,116.440002,119.489998,119.489998,112295000\\n2020-11-12,119.620003,120.529999,118.570000,119.209999,119.209999,103162300\\n2020-11-13,119.440002,119.669998,117.870003,119.260002,119.260002,81581900\\n2020-11-16,118.919998,120.989998,118.150002,120.300003,120.300003,91183000\\n2020-11-17,119.550003,120.669998,118.959999,119.389999,119.389999,74271000\\n2020-11-18,118.610001,119.820000,118.000000,118.029999,118.029999,76322100\\n2020-11-19,117.589996,119.059998,116.809998,118.639999,118.639999,74113000\\n2020-11-20,118.639999,118.769997,117.290001,117.339996,117.339996,73391400\\n2020-11-23,117.180000,117.620003,113.750000,113.849998,113.849998,127959300\\n2020-11-24,113.910004,115.849998,112.589996,115.169998,115.169998,113874200\\n2020-11-25,115.550003,116.750000,115.169998,116.029999,116.029999,76499200\\n2020-11-27,116.570000,117.489998,116.220001,116.589996,116.589996,46691300'}"
            ]
          },
          "metadata": {
            "tags": []
          },
          "execution_count": 59
        }
      ]
    },
    {
      "cell_type": "code",
      "metadata": {
        "id": "hJhS96FDtA7T"
      },
      "source": [
        "#import pandas as pd #change by me"
      ],
      "execution_count": null,
      "outputs": []
    },
    {
      "cell_type": "code",
      "metadata": {
        "id": "W2Udx0MktA7T"
      },
      "source": [
        "df=pd.read_csv('AAPL.csv')"
      ],
      "execution_count": 60,
      "outputs": []
    },
    {
      "cell_type": "code",
      "metadata": {
        "colab": {
          "base_uri": "https://localhost:8080/",
          "height": 306
        },
        "id": "1rYmpkJHtA7U",
        "outputId": "32f93080-b883-4a0c-f83a-a3c3dfb5bc98"
      },
      "source": [
        "df.head()"
      ],
      "execution_count": 56,
      "outputs": [
        {
          "output_type": "execute_result",
          "data": {
            "text/html": [
              "<div>\n",
              "<style scoped>\n",
              "    .dataframe tbody tr th:only-of-type {\n",
              "        vertical-align: middle;\n",
              "    }\n",
              "\n",
              "    .dataframe tbody tr th {\n",
              "        vertical-align: top;\n",
              "    }\n",
              "\n",
              "    .dataframe thead th {\n",
              "        text-align: right;\n",
              "    }\n",
              "</style>\n",
              "<table border=\"1\" class=\"dataframe\">\n",
              "  <thead>\n",
              "    <tr style=\"text-align: right;\">\n",
              "      <th></th>\n",
              "      <th>Unnamed: 0</th>\n",
              "      <th>symbol</th>\n",
              "      <th>date</th>\n",
              "      <th>close</th>\n",
              "      <th>high</th>\n",
              "      <th>low</th>\n",
              "      <th>open</th>\n",
              "      <th>volume</th>\n",
              "      <th>adjClose</th>\n",
              "      <th>adjHigh</th>\n",
              "      <th>adjLow</th>\n",
              "      <th>adjOpen</th>\n",
              "      <th>adjVolume</th>\n",
              "      <th>divCash</th>\n",
              "      <th>splitFactor</th>\n",
              "    </tr>\n",
              "  </thead>\n",
              "  <tbody>\n",
              "    <tr>\n",
              "      <th>0</th>\n",
              "      <td>0</td>\n",
              "      <td>AAPL</td>\n",
              "      <td>2015-05-27 00:00:00+00:00</td>\n",
              "      <td>132.045</td>\n",
              "      <td>132.260</td>\n",
              "      <td>130.05</td>\n",
              "      <td>130.34</td>\n",
              "      <td>45833246</td>\n",
              "      <td>121.682558</td>\n",
              "      <td>121.880685</td>\n",
              "      <td>119.844118</td>\n",
              "      <td>120.111360</td>\n",
              "      <td>45833246</td>\n",
              "      <td>0.0</td>\n",
              "      <td>1.0</td>\n",
              "    </tr>\n",
              "    <tr>\n",
              "      <th>1</th>\n",
              "      <td>1</td>\n",
              "      <td>AAPL</td>\n",
              "      <td>2015-05-28 00:00:00+00:00</td>\n",
              "      <td>131.780</td>\n",
              "      <td>131.950</td>\n",
              "      <td>131.10</td>\n",
              "      <td>131.86</td>\n",
              "      <td>30733309</td>\n",
              "      <td>121.438354</td>\n",
              "      <td>121.595013</td>\n",
              "      <td>120.811718</td>\n",
              "      <td>121.512076</td>\n",
              "      <td>30733309</td>\n",
              "      <td>0.0</td>\n",
              "      <td>1.0</td>\n",
              "    </tr>\n",
              "    <tr>\n",
              "      <th>2</th>\n",
              "      <td>2</td>\n",
              "      <td>AAPL</td>\n",
              "      <td>2015-05-29 00:00:00+00:00</td>\n",
              "      <td>130.280</td>\n",
              "      <td>131.450</td>\n",
              "      <td>129.90</td>\n",
              "      <td>131.23</td>\n",
              "      <td>50884452</td>\n",
              "      <td>120.056069</td>\n",
              "      <td>121.134251</td>\n",
              "      <td>119.705890</td>\n",
              "      <td>120.931516</td>\n",
              "      <td>50884452</td>\n",
              "      <td>0.0</td>\n",
              "      <td>1.0</td>\n",
              "    </tr>\n",
              "    <tr>\n",
              "      <th>3</th>\n",
              "      <td>3</td>\n",
              "      <td>AAPL</td>\n",
              "      <td>2015-06-01 00:00:00+00:00</td>\n",
              "      <td>130.535</td>\n",
              "      <td>131.390</td>\n",
              "      <td>130.05</td>\n",
              "      <td>131.20</td>\n",
              "      <td>32112797</td>\n",
              "      <td>120.291057</td>\n",
              "      <td>121.078960</td>\n",
              "      <td>119.844118</td>\n",
              "      <td>120.903870</td>\n",
              "      <td>32112797</td>\n",
              "      <td>0.0</td>\n",
              "      <td>1.0</td>\n",
              "    </tr>\n",
              "    <tr>\n",
              "      <th>4</th>\n",
              "      <td>4</td>\n",
              "      <td>AAPL</td>\n",
              "      <td>2015-06-02 00:00:00+00:00</td>\n",
              "      <td>129.960</td>\n",
              "      <td>130.655</td>\n",
              "      <td>129.32</td>\n",
              "      <td>129.86</td>\n",
              "      <td>33667627</td>\n",
              "      <td>119.761181</td>\n",
              "      <td>120.401640</td>\n",
              "      <td>119.171406</td>\n",
              "      <td>119.669029</td>\n",
              "      <td>33667627</td>\n",
              "      <td>0.0</td>\n",
              "      <td>1.0</td>\n",
              "    </tr>\n",
              "  </tbody>\n",
              "</table>\n",
              "</div>"
            ],
            "text/plain": [
              "   Unnamed: 0 symbol  ... divCash  splitFactor\n",
              "0           0   AAPL  ...     0.0          1.0\n",
              "1           1   AAPL  ...     0.0          1.0\n",
              "2           2   AAPL  ...     0.0          1.0\n",
              "3           3   AAPL  ...     0.0          1.0\n",
              "4           4   AAPL  ...     0.0          1.0\n",
              "\n",
              "[5 rows x 15 columns]"
            ]
          },
          "metadata": {
            "tags": []
          },
          "execution_count": 56
        }
      ]
    },
    {
      "cell_type": "code",
      "metadata": {
        "colab": {
          "base_uri": "https://localhost:8080/",
          "height": 306
        },
        "id": "Ma4jHqOGtA7V",
        "outputId": "09bad71a-39fa-4cbd-d6ec-e0675583314d"
      },
      "source": [
        "df.tail()"
      ],
      "execution_count": 61,
      "outputs": [
        {
          "output_type": "execute_result",
          "data": {
            "text/html": [
              "<div>\n",
              "<style scoped>\n",
              "    .dataframe tbody tr th:only-of-type {\n",
              "        vertical-align: middle;\n",
              "    }\n",
              "\n",
              "    .dataframe tbody tr th {\n",
              "        vertical-align: top;\n",
              "    }\n",
              "\n",
              "    .dataframe thead th {\n",
              "        text-align: right;\n",
              "    }\n",
              "</style>\n",
              "<table border=\"1\" class=\"dataframe\">\n",
              "  <thead>\n",
              "    <tr style=\"text-align: right;\">\n",
              "      <th></th>\n",
              "      <th>Unnamed: 0</th>\n",
              "      <th>symbol</th>\n",
              "      <th>date</th>\n",
              "      <th>close</th>\n",
              "      <th>high</th>\n",
              "      <th>low</th>\n",
              "      <th>open</th>\n",
              "      <th>volume</th>\n",
              "      <th>adjClose</th>\n",
              "      <th>adjHigh</th>\n",
              "      <th>adjLow</th>\n",
              "      <th>adjOpen</th>\n",
              "      <th>adjVolume</th>\n",
              "      <th>divCash</th>\n",
              "      <th>splitFactor</th>\n",
              "    </tr>\n",
              "  </thead>\n",
              "  <tbody>\n",
              "    <tr>\n",
              "      <th>1253</th>\n",
              "      <td>1253</td>\n",
              "      <td>AAPL</td>\n",
              "      <td>2020-05-18 00:00:00+00:00</td>\n",
              "      <td>314.96</td>\n",
              "      <td>316.50</td>\n",
              "      <td>310.3241</td>\n",
              "      <td>313.17</td>\n",
              "      <td>33843125</td>\n",
              "      <td>314.96</td>\n",
              "      <td>316.50</td>\n",
              "      <td>310.3241</td>\n",
              "      <td>313.17</td>\n",
              "      <td>33843125</td>\n",
              "      <td>0.0</td>\n",
              "      <td>1.0</td>\n",
              "    </tr>\n",
              "    <tr>\n",
              "      <th>1254</th>\n",
              "      <td>1254</td>\n",
              "      <td>AAPL</td>\n",
              "      <td>2020-05-19 00:00:00+00:00</td>\n",
              "      <td>313.14</td>\n",
              "      <td>318.52</td>\n",
              "      <td>313.0100</td>\n",
              "      <td>315.03</td>\n",
              "      <td>25432385</td>\n",
              "      <td>313.14</td>\n",
              "      <td>318.52</td>\n",
              "      <td>313.0100</td>\n",
              "      <td>315.03</td>\n",
              "      <td>25432385</td>\n",
              "      <td>0.0</td>\n",
              "      <td>1.0</td>\n",
              "    </tr>\n",
              "    <tr>\n",
              "      <th>1255</th>\n",
              "      <td>1255</td>\n",
              "      <td>AAPL</td>\n",
              "      <td>2020-05-20 00:00:00+00:00</td>\n",
              "      <td>319.23</td>\n",
              "      <td>319.52</td>\n",
              "      <td>316.2000</td>\n",
              "      <td>316.68</td>\n",
              "      <td>27876215</td>\n",
              "      <td>319.23</td>\n",
              "      <td>319.52</td>\n",
              "      <td>316.2000</td>\n",
              "      <td>316.68</td>\n",
              "      <td>27876215</td>\n",
              "      <td>0.0</td>\n",
              "      <td>1.0</td>\n",
              "    </tr>\n",
              "    <tr>\n",
              "      <th>1256</th>\n",
              "      <td>1256</td>\n",
              "      <td>AAPL</td>\n",
              "      <td>2020-05-21 00:00:00+00:00</td>\n",
              "      <td>316.85</td>\n",
              "      <td>320.89</td>\n",
              "      <td>315.8700</td>\n",
              "      <td>318.66</td>\n",
              "      <td>25672211</td>\n",
              "      <td>316.85</td>\n",
              "      <td>320.89</td>\n",
              "      <td>315.8700</td>\n",
              "      <td>318.66</td>\n",
              "      <td>25672211</td>\n",
              "      <td>0.0</td>\n",
              "      <td>1.0</td>\n",
              "    </tr>\n",
              "    <tr>\n",
              "      <th>1257</th>\n",
              "      <td>1257</td>\n",
              "      <td>AAPL</td>\n",
              "      <td>2020-05-22 00:00:00+00:00</td>\n",
              "      <td>318.89</td>\n",
              "      <td>319.23</td>\n",
              "      <td>315.3500</td>\n",
              "      <td>315.77</td>\n",
              "      <td>20450754</td>\n",
              "      <td>318.89</td>\n",
              "      <td>319.23</td>\n",
              "      <td>315.3500</td>\n",
              "      <td>315.77</td>\n",
              "      <td>20450754</td>\n",
              "      <td>0.0</td>\n",
              "      <td>1.0</td>\n",
              "    </tr>\n",
              "  </tbody>\n",
              "</table>\n",
              "</div>"
            ],
            "text/plain": [
              "      Unnamed: 0 symbol  ... divCash  splitFactor\n",
              "1253        1253   AAPL  ...     0.0          1.0\n",
              "1254        1254   AAPL  ...     0.0          1.0\n",
              "1255        1255   AAPL  ...     0.0          1.0\n",
              "1256        1256   AAPL  ...     0.0          1.0\n",
              "1257        1257   AAPL  ...     0.0          1.0\n",
              "\n",
              "[5 rows x 15 columns]"
            ]
          },
          "metadata": {
            "tags": []
          },
          "execution_count": 61
        }
      ]
    },
    {
      "cell_type": "code",
      "metadata": {
        "id": "CDw8eEHntA7W"
      },
      "source": [
        "df1=df.reset_index()['close']"
      ],
      "execution_count": 53,
      "outputs": []
    },
    {
      "cell_type": "code",
      "metadata": {
        "colab": {
          "base_uri": "https://localhost:8080/"
        },
        "id": "tD9sJJo1tA7W",
        "outputId": "12d486d2-8708-421b-cead-e0253c585643"
      },
      "source": [
        "df1"
      ],
      "execution_count": 11,
      "outputs": [
        {
          "output_type": "execute_result",
          "data": {
            "text/plain": [
              "0       132.045\n",
              "1       131.780\n",
              "2       130.280\n",
              "3       130.535\n",
              "4       129.960\n",
              "         ...   \n",
              "1253    314.960\n",
              "1254    313.140\n",
              "1255    319.230\n",
              "1256    316.850\n",
              "1257    318.890\n",
              "Name: close, Length: 1258, dtype: float64"
            ]
          },
          "metadata": {
            "tags": []
          },
          "execution_count": 11
        }
      ]
    },
    {
      "cell_type": "code",
      "metadata": {
        "colab": {
          "base_uri": "https://localhost:8080/",
          "height": 283
        },
        "id": "vA4O0mfdtA7W",
        "outputId": "be1a3ee7-4d55-4050-fb1b-24ae9d712d34"
      },
      "source": [
        "import matplotlib.pyplot as plt\n",
        "plt.plot(df1)"
      ],
      "execution_count": 54,
      "outputs": [
        {
          "output_type": "execute_result",
          "data": {
            "text/plain": [
              "[<matplotlib.lines.Line2D at 0x7f3ab3357278>]"
            ]
          },
          "metadata": {
            "tags": []
          },
          "execution_count": 54
        },
        {
          "output_type": "display_data",
          "data": {
            "image/png": "[encoded data removed]",
            "text/plain": [
              "<Figure size 432x288 with 1 Axes>"
            ]
          },
          "metadata": {
            "tags": [],
            "needs_background": "light"
          }
        }
      ]
    },
    {
      "cell_type": "code",
      "metadata": {
        "id": "h1uOjssJtA7W"
      },
      "source": [
        "### LSTM are sensitive to the scale of the data. so we apply MinMax scaler "
      ],
      "execution_count": null,
      "outputs": []
    },
    {
      "cell_type": "code",
      "metadata": {
        "id": "UrMNcIlztA7W"
      },
      "source": [
        "import numpy as np"
      ],
      "execution_count": 13,
      "outputs": []
    },
    {
      "cell_type": "code",
      "metadata": {
        "colab": {
          "base_uri": "https://localhost:8080/"
        },
        "id": "yfepi3AgtA7W",
        "outputId": "c63c2c61-8323-437c-a8c3-ac93c24c8332"
      },
      "source": [
        "df1"
      ],
      "execution_count": 14,
      "outputs": [
        {
          "output_type": "execute_result",
          "data": {
            "text/plain": [
              "0       132.045\n",
              "1       131.780\n",
              "2       130.280\n",
              "3       130.535\n",
              "4       129.960\n",
              "         ...   \n",
              "1253    314.960\n",
              "1254    313.140\n",
              "1255    319.230\n",
              "1256    316.850\n",
              "1257    318.890\n",
              "Name: close, Length: 1258, dtype: float64"
            ]
          },
          "metadata": {
            "tags": []
          },
          "execution_count": 14
        }
      ]
    },
    {
      "cell_type": "code",
      "metadata": {
        "id": "sCiu7qQAtA7W"
      },
      "source": [
        "from sklearn.preprocessing import MinMaxScaler\n",
        "scaler=MinMaxScaler(feature_range=(0,1))\n",
        "df1=scaler.fit_transform(np.array(df1).reshape(-1,1))"
      ],
      "execution_count": 15,
      "outputs": []
    },
    {
      "cell_type": "code",
      "metadata": {
        "colab": {
          "base_uri": "https://localhost:8080/"
        },
        "id": "6UUenKyCtA7W",
        "outputId": "0d9a3103-3548-4e16-eb8a-da696b62d52c"
      },
      "source": [
        "print(df1)"
      ],
      "execution_count": 16,
      "outputs": [
        {
          "output_type": "stream",
          "text": [
            "[[0.17607447]\n",
            " [0.17495567]\n",
            " [0.16862282]\n",
            " ...\n",
            " [0.96635143]\n",
            " [0.9563033 ]\n",
            " [0.96491598]]\n"
          ],
          "name": "stdout"
        }
      ]
    },
    {
      "cell_type": "code",
      "metadata": {
        "id": "VK_t9DCwtA7X"
      },
      "source": [
        "##splitting dataset into train and test split\n",
        "training_size=int(len(df1)*0.65)\n",
        "test_size=len(df1)-training_size\n",
        "train_data,test_data=df1[0:training_size,:],df1[training_size:len(df1),:1]"
      ],
      "execution_count": 17,
      "outputs": []
    },
    {
      "cell_type": "code",
      "metadata": {
        "colab": {
          "base_uri": "https://localhost:8080/"
        },
        "id": "bAbM-_N4tA7X",
        "outputId": "803d4e5c-bae5-4da1-8846-98ceda9017a8"
      },
      "source": [
        "training_size,test_size"
      ],
      "execution_count": 18,
      "outputs": [
        {
          "output_type": "execute_result",
          "data": {
            "text/plain": [
              "(817, 441)"
            ]
          },
          "metadata": {
            "tags": []
          },
          "execution_count": 18
        }
      ]
    },
    {
      "cell_type": "code",
      "metadata": {
        "id": "nIo_k2BTtA7X"
      },
      "source": [
        "train_data"
      ],
      "execution_count": null,
      "outputs": []
    },
    {
      "cell_type": "code",
      "metadata": {
        "id": "WxhgPJS7tA7X"
      },
      "source": [
        "import numpy\n",
        "# convert an array of values into a dataset matrix\n",
        "def create_dataset(dataset, time_step=1):\n",
        "\tdataX, dataY = [], []\n",
        "\tfor i in range(len(dataset)-time_step-1):\n",
        "\t\ta = dataset[i:(i+time_step), 0]   ###i=0, 0,1,2,3-----99   100 \n",
        "\t\tdataX.append(a)\n",
        "\t\tdataY.append(dataset[i + time_step, 0])\n",
        "\treturn numpy.array(dataX), numpy.array(dataY)"
      ],
      "execution_count": 20,
      "outputs": []
    },
    {
      "cell_type": "code",
      "metadata": {
        "id": "2a7OnrUDtA7X"
      },
      "source": [
        "# reshape into X=t,t+1,t+2,t+3 and Y=t+4\n",
        "time_step = 100\n",
        "X_train, y_train = create_dataset(train_data, time_step)\n",
        "X_test, ytest = create_dataset(test_data, time_step)"
      ],
      "execution_count": 21,
      "outputs": []
    },
    {
      "cell_type": "code",
      "metadata": {
        "colab": {
          "base_uri": "https://localhost:8080/"
        },
        "id": "0DAhxR-LtA7X",
        "outputId": "9f4ccad6-943e-4eb3-eeb6-b8895ddb49e5"
      },
      "source": [
        "print(X_train.shape), print(y_train.shape)"
      ],
      "execution_count": 22,
      "outputs": [
        {
          "output_type": "stream",
          "text": [
            "(716, 100)\n",
            "(716,)\n"
          ],
          "name": "stdout"
        },
        {
          "output_type": "execute_result",
          "data": {
            "text/plain": [
              "(None, None)"
            ]
          },
          "metadata": {
            "tags": []
          },
          "execution_count": 22
        }
      ]
    },
    {
      "cell_type": "code",
      "metadata": {
        "colab": {
          "base_uri": "https://localhost:8080/"
        },
        "id": "rjVrXYSUtA7X",
        "outputId": "17e027d8-0cc5-404a-b8e1-9102c4f16309"
      },
      "source": [
        "print(X_test.shape), print(ytest.shape)"
      ],
      "execution_count": 23,
      "outputs": [
        {
          "output_type": "stream",
          "text": [
            "(340, 100)\n",
            "(340,)\n"
          ],
          "name": "stdout"
        },
        {
          "output_type": "execute_result",
          "data": {
            "text/plain": [
              "(None, None)"
            ]
          },
          "metadata": {
            "tags": []
          },
          "execution_count": 23
        }
      ]
    },
    {
      "cell_type": "code",
      "metadata": {
        "id": "szuDFuNKtA7X"
      },
      "source": [
        "# reshape input to be [samples, time steps, features] which is required for LSTM\n",
        "X_train =X_train.reshape(X_train.shape[0],X_train.shape[1] , 1)\n",
        "X_test = X_test.reshape(X_test.shape[0],X_test.shape[1] , 1)"
      ],
      "execution_count": 24,
      "outputs": []
    },
    {
      "cell_type": "code",
      "metadata": {
        "id": "TZ6UBaybtA7X"
      },
      "source": [
        "### Create the Stacked LSTM model\n",
        "from tensorflow.keras.models import Sequential\n",
        "from tensorflow.keras.layers import Dense\n",
        "from tensorflow.keras.layers import LSTM"
      ],
      "execution_count": 25,
      "outputs": []
    },
    {
      "cell_type": "code",
      "metadata": {
        "id": "z5mo78FftA7X"
      },
      "source": [
        "model=Sequential()\n",
        "model.add(LSTM(50,return_sequences=True,input_shape=(100,1)))\n",
        "model.add(LSTM(50,return_sequences=True))\n",
        "model.add(LSTM(50))\n",
        "model.add(Dense(1))\n",
        "model.compile(loss='mean_squared_error',optimizer='adam')\n"
      ],
      "execution_count": 26,
      "outputs": []
    },
    {
      "cell_type": "code",
      "metadata": {
        "colab": {
          "base_uri": "https://localhost:8080/"
        },
        "id": "a1Jo-zE0tA7X",
        "outputId": "01d1fd6a-7145-411f-8945-d1ed660b101e"
      },
      "source": [
        "model.summary()"
      ],
      "execution_count": 27,
      "outputs": [
        {
          "output_type": "stream",
          "text": [
            "Model: \"sequential\"\n",
            "_________________________________________________________________\n",
            "Layer (type)                 Output Shape              Param #   \n",
            "=================================================================\n",
            "lstm (LSTM)                  (None, 100, 50)           10400     \n",
            "_________________________________________________________________\n",
            "lstm_1 (LSTM)                (None, 100, 50)           20200     \n",
            "_________________________________________________________________\n",
            "lstm_2 (LSTM)                (None, 50)                20200     \n",
            "_________________________________________________________________\n",
            "dense (Dense)                (None, 1)                 51        \n",
            "=================================================================\n",
            "Total params: 50,851\n",
            "Trainable params: 50,851\n",
            "Non-trainable params: 0\n",
            "_________________________________________________________________\n"
          ],
          "name": "stdout"
        }
      ]
    },
    {
      "cell_type": "code",
      "metadata": {
        "id": "h7DfuzPttA7Y"
      },
      "source": [
        "model.summary()"
      ],
      "execution_count": null,
      "outputs": []
    },
    {
      "cell_type": "code",
      "metadata": {
        "id": "tCOmKe3ltA7Z"
      },
      "source": [
        ""
      ],
      "execution_count": null,
      "outputs": []
    },
    {
      "cell_type": "code",
      "metadata": {
        "colab": {
          "base_uri": "https://localhost:8080/"
        },
        "id": "TED6nbgptA7Z",
        "outputId": "7cde9402-d9ab-40ee-bba9-21c34a7d6a43"
      },
      "source": [
        "model.fit(X_train,y_train,validation_data=(X_test,ytest),epochs=100,batch_size=64,verbose=1)"
      ],
      "execution_count": 29,
      "outputs": [
        {
          "output_type": "stream",
          "text": [
            "Epoch 1/100\n",
            "12/12 [==============================] - 3s 247ms/step - loss: 0.0191 - val_loss: 0.0513\n",
            "Epoch 2/100\n",
            "12/12 [==============================] - 2s 161ms/step - loss: 0.0039 - val_loss: 0.0045\n",
            "Epoch 3/100\n",
            "12/12 [==============================] - 2s 166ms/step - loss: 0.0014 - val_loss: 0.0038\n",
            "Epoch 4/100\n",
            "12/12 [==============================] - 2s 170ms/step - loss: 8.1195e-04 - val_loss: 0.0055\n",
            "Epoch 5/100\n",
            "12/12 [==============================] - 2s 170ms/step - loss: 6.3601e-04 - val_loss: 0.0063\n",
            "Epoch 6/100\n",
            "12/12 [==============================] - 2s 168ms/step - loss: 6.1234e-04 - val_loss: 0.0054\n",
            "Epoch 7/100\n",
            "12/12 [==============================] - 2s 173ms/step - loss: 5.8621e-04 - val_loss: 0.0037\n",
            "Epoch 8/100\n",
            "12/12 [==============================] - 2s 168ms/step - loss: 6.0930e-04 - val_loss: 0.0039\n",
            "Epoch 9/100\n",
            "12/12 [==============================] - 2s 169ms/step - loss: 5.9367e-04 - val_loss: 0.0046\n",
            "Epoch 10/100\n",
            "12/12 [==============================] - 2s 181ms/step - loss: 5.7343e-04 - val_loss: 0.0038\n",
            "Epoch 11/100\n",
            "12/12 [==============================] - 2s 178ms/step - loss: 5.7415e-04 - val_loss: 0.0039\n",
            "Epoch 12/100\n",
            "12/12 [==============================] - 2s 175ms/step - loss: 5.7099e-04 - val_loss: 0.0040\n",
            "Epoch 13/100\n",
            "12/12 [==============================] - 2s 171ms/step - loss: 5.6200e-04 - val_loss: 0.0045\n",
            "Epoch 14/100\n",
            "12/12 [==============================] - 2s 172ms/step - loss: 5.7376e-04 - val_loss: 0.0042\n",
            "Epoch 15/100\n",
            "12/12 [==============================] - 2s 181ms/step - loss: 5.4415e-04 - val_loss: 0.0034\n",
            "Epoch 16/100\n",
            "12/12 [==============================] - 2s 172ms/step - loss: 5.2245e-04 - val_loss: 0.0033\n",
            "Epoch 17/100\n",
            "12/12 [==============================] - 2s 173ms/step - loss: 5.2675e-04 - val_loss: 0.0029\n",
            "Epoch 18/100\n",
            "12/12 [==============================] - 2s 174ms/step - loss: 6.4140e-04 - val_loss: 0.0030\n",
            "Epoch 19/100\n",
            "12/12 [==============================] - 2s 172ms/step - loss: 5.8315e-04 - val_loss: 0.0028\n",
            "Epoch 20/100\n",
            "12/12 [==============================] - 2s 172ms/step - loss: 4.9488e-04 - val_loss: 0.0030\n",
            "Epoch 21/100\n",
            "12/12 [==============================] - 2s 173ms/step - loss: 5.1197e-04 - val_loss: 0.0049\n",
            "Epoch 22/100\n",
            "12/12 [==============================] - 2s 186ms/step - loss: 5.9356e-04 - val_loss: 0.0029\n",
            "Epoch 23/100\n",
            "12/12 [==============================] - 2s 182ms/step - loss: 5.1573e-04 - val_loss: 0.0026\n",
            "Epoch 24/100\n",
            "12/12 [==============================] - 2s 182ms/step - loss: 4.9899e-04 - val_loss: 0.0024\n",
            "Epoch 25/100\n",
            "12/12 [==============================] - 2s 171ms/step - loss: 4.6904e-04 - val_loss: 0.0026\n",
            "Epoch 26/100\n",
            "12/12 [==============================] - 2s 169ms/step - loss: 4.5917e-04 - val_loss: 0.0023\n",
            "Epoch 27/100\n",
            "12/12 [==============================] - 2s 171ms/step - loss: 4.5022e-04 - val_loss: 0.0022\n",
            "Epoch 28/100\n",
            "12/12 [==============================] - 2s 176ms/step - loss: 4.8484e-04 - val_loss: 0.0035\n",
            "Epoch 29/100\n",
            "12/12 [==============================] - 2s 182ms/step - loss: 4.5788e-04 - val_loss: 0.0024\n",
            "Epoch 30/100\n",
            "12/12 [==============================] - 2s 177ms/step - loss: 4.5306e-04 - val_loss: 0.0022\n",
            "Epoch 31/100\n",
            "12/12 [==============================] - 2s 181ms/step - loss: 4.5681e-04 - val_loss: 0.0019\n",
            "Epoch 32/100\n",
            "12/12 [==============================] - 2s 183ms/step - loss: 4.2698e-04 - val_loss: 0.0020\n",
            "Epoch 33/100\n",
            "12/12 [==============================] - 2s 178ms/step - loss: 4.2852e-04 - val_loss: 0.0020\n",
            "Epoch 34/100\n",
            "12/12 [==============================] - 2s 180ms/step - loss: 3.9961e-04 - val_loss: 0.0019\n",
            "Epoch 35/100\n",
            "12/12 [==============================] - 2s 188ms/step - loss: 4.2550e-04 - val_loss: 0.0018\n",
            "Epoch 36/100\n",
            "12/12 [==============================] - 2s 193ms/step - loss: 4.5600e-04 - val_loss: 0.0020\n",
            "Epoch 37/100\n",
            "12/12 [==============================] - 2s 181ms/step - loss: 4.2567e-04 - val_loss: 0.0020\n",
            "Epoch 38/100\n",
            "12/12 [==============================] - 2s 186ms/step - loss: 3.9899e-04 - val_loss: 0.0016\n",
            "Epoch 39/100\n",
            "12/12 [==============================] - 2s 176ms/step - loss: 3.7934e-04 - val_loss: 0.0020\n",
            "Epoch 40/100\n",
            "12/12 [==============================] - 2s 179ms/step - loss: 4.0769e-04 - val_loss: 0.0016\n",
            "Epoch 41/100\n",
            "12/12 [==============================] - 2s 190ms/step - loss: 3.8124e-04 - val_loss: 0.0016\n",
            "Epoch 42/100\n",
            "12/12 [==============================] - 2s 183ms/step - loss: 3.5775e-04 - val_loss: 0.0015\n",
            "Epoch 43/100\n",
            "12/12 [==============================] - 2s 175ms/step - loss: 3.7965e-04 - val_loss: 0.0014\n",
            "Epoch 44/100\n",
            "12/12 [==============================] - 2s 175ms/step - loss: 3.7305e-04 - val_loss: 0.0014\n",
            "Epoch 45/100\n",
            "12/12 [==============================] - 2s 183ms/step - loss: 4.1723e-04 - val_loss: 0.0017\n",
            "Epoch 46/100\n",
            "12/12 [==============================] - 2s 188ms/step - loss: 3.3611e-04 - val_loss: 0.0016\n",
            "Epoch 47/100\n",
            "12/12 [==============================] - 2s 188ms/step - loss: 3.3037e-04 - val_loss: 0.0014\n",
            "Epoch 48/100\n",
            "12/12 [==============================] - 2s 191ms/step - loss: 3.3774e-04 - val_loss: 0.0016\n",
            "Epoch 49/100\n",
            "12/12 [==============================] - 2s 176ms/step - loss: 3.3730e-04 - val_loss: 0.0014\n",
            "Epoch 50/100\n",
            "12/12 [==============================] - 2s 185ms/step - loss: 3.5336e-04 - val_loss: 0.0016\n",
            "Epoch 51/100\n",
            "12/12 [==============================] - 2s 183ms/step - loss: 3.0986e-04 - val_loss: 0.0014\n",
            "Epoch 52/100\n",
            "12/12 [==============================] - 2s 177ms/step - loss: 3.1035e-04 - val_loss: 0.0017\n",
            "Epoch 53/100\n",
            "12/12 [==============================] - 2s 176ms/step - loss: 3.1652e-04 - val_loss: 0.0013\n",
            "Epoch 54/100\n",
            "12/12 [==============================] - 2s 180ms/step - loss: 3.1317e-04 - val_loss: 0.0031\n",
            "Epoch 55/100\n",
            "12/12 [==============================] - 2s 185ms/step - loss: 3.2743e-04 - val_loss: 0.0013\n",
            "Epoch 56/100\n",
            "12/12 [==============================] - 2s 186ms/step - loss: 2.9448e-04 - val_loss: 0.0013\n",
            "Epoch 57/100\n",
            "12/12 [==============================] - 2s 184ms/step - loss: 3.4388e-04 - val_loss: 0.0032\n",
            "Epoch 58/100\n",
            "12/12 [==============================] - 2s 179ms/step - loss: 4.2329e-04 - val_loss: 0.0013\n",
            "Epoch 59/100\n",
            "12/12 [==============================] - 2s 180ms/step - loss: 3.1863e-04 - val_loss: 0.0014\n",
            "Epoch 60/100\n",
            "12/12 [==============================] - 2s 181ms/step - loss: 2.7951e-04 - val_loss: 0.0014\n",
            "Epoch 61/100\n",
            "12/12 [==============================] - 2s 180ms/step - loss: 2.6789e-04 - val_loss: 0.0014\n",
            "Epoch 62/100\n",
            "12/12 [==============================] - 2s 182ms/step - loss: 2.6394e-04 - val_loss: 0.0013\n",
            "Epoch 63/100\n",
            "12/12 [==============================] - 2s 184ms/step - loss: 2.6181e-04 - val_loss: 0.0012\n",
            "Epoch 64/100\n",
            "12/12 [==============================] - 2s 179ms/step - loss: 2.8265e-04 - val_loss: 0.0013\n",
            "Epoch 65/100\n",
            "12/12 [==============================] - 2s 179ms/step - loss: 2.6171e-04 - val_loss: 0.0013\n",
            "Epoch 66/100\n",
            "12/12 [==============================] - 2s 176ms/step - loss: 2.5567e-04 - val_loss: 0.0012\n",
            "Epoch 67/100\n",
            "12/12 [==============================] - 2s 178ms/step - loss: 2.7602e-04 - val_loss: 0.0023\n",
            "Epoch 68/100\n",
            "12/12 [==============================] - 2s 187ms/step - loss: 2.7312e-04 - val_loss: 0.0012\n",
            "Epoch 69/100\n",
            "12/12 [==============================] - 2s 176ms/step - loss: 2.7346e-04 - val_loss: 0.0012\n",
            "Epoch 70/100\n",
            "12/12 [==============================] - 2s 175ms/step - loss: 2.5087e-04 - val_loss: 0.0012\n",
            "Epoch 71/100\n",
            "12/12 [==============================] - 2s 185ms/step - loss: 2.3308e-04 - val_loss: 0.0013\n",
            "Epoch 72/100\n",
            "12/12 [==============================] - 2s 176ms/step - loss: 2.3240e-04 - val_loss: 0.0013\n",
            "Epoch 73/100\n",
            "12/12 [==============================] - 2s 177ms/step - loss: 2.2742e-04 - val_loss: 0.0012\n",
            "Epoch 74/100\n",
            "12/12 [==============================] - 2s 183ms/step - loss: 2.4113e-04 - val_loss: 0.0012\n",
            "Epoch 75/100\n",
            "12/12 [==============================] - 2s 177ms/step - loss: 2.2108e-04 - val_loss: 0.0013\n",
            "Epoch 76/100\n",
            "12/12 [==============================] - 2s 185ms/step - loss: 2.3180e-04 - val_loss: 0.0012\n",
            "Epoch 77/100\n",
            "12/12 [==============================] - 2s 181ms/step - loss: 2.5795e-04 - val_loss: 0.0011\n",
            "Epoch 78/100\n",
            "12/12 [==============================] - 2s 186ms/step - loss: 2.1309e-04 - val_loss: 0.0012\n",
            "Epoch 79/100\n",
            "12/12 [==============================] - 2s 193ms/step - loss: 2.0793e-04 - val_loss: 0.0011\n",
            "Epoch 80/100\n",
            "12/12 [==============================] - 2s 175ms/step - loss: 2.1684e-04 - val_loss: 0.0011\n",
            "Epoch 81/100\n",
            "12/12 [==============================] - 2s 186ms/step - loss: 2.2884e-04 - val_loss: 0.0011\n",
            "Epoch 82/100\n",
            "12/12 [==============================] - 2s 189ms/step - loss: 1.9961e-04 - val_loss: 0.0010\n",
            "Epoch 83/100\n",
            "12/12 [==============================] - 2s 194ms/step - loss: 1.9085e-04 - val_loss: 0.0010\n",
            "Epoch 84/100\n",
            "12/12 [==============================] - 2s 181ms/step - loss: 2.1416e-04 - val_loss: 0.0010\n",
            "Epoch 85/100\n",
            "12/12 [==============================] - 2s 186ms/step - loss: 1.8822e-04 - val_loss: 0.0010\n",
            "Epoch 86/100\n",
            "12/12 [==============================] - 2s 176ms/step - loss: 1.8512e-04 - val_loss: 0.0010\n",
            "Epoch 87/100\n",
            "12/12 [==============================] - 2s 182ms/step - loss: 1.7875e-04 - val_loss: 9.5898e-04\n",
            "Epoch 88/100\n",
            "12/12 [==============================] - 2s 186ms/step - loss: 1.7743e-04 - val_loss: 0.0011\n",
            "Epoch 89/100\n",
            "12/12 [==============================] - 2s 195ms/step - loss: 1.8100e-04 - val_loss: 9.9365e-04\n",
            "Epoch 90/100\n",
            "12/12 [==============================] - 2s 183ms/step - loss: 1.8447e-04 - val_loss: 9.8985e-04\n",
            "Epoch 91/100\n",
            "12/12 [==============================] - 2s 178ms/step - loss: 1.9874e-04 - val_loss: 0.0011\n",
            "Epoch 92/100\n",
            "12/12 [==============================] - 2s 186ms/step - loss: 1.7198e-04 - val_loss: 0.0010\n",
            "Epoch 93/100\n",
            "12/12 [==============================] - 2s 176ms/step - loss: 1.8057e-04 - val_loss: 0.0011\n",
            "Epoch 94/100\n",
            "12/12 [==============================] - 2s 183ms/step - loss: 1.7391e-04 - val_loss: 0.0014\n",
            "Epoch 95/100\n",
            "12/12 [==============================] - 2s 196ms/step - loss: 1.6508e-04 - val_loss: 8.7454e-04\n",
            "Epoch 96/100\n",
            "12/12 [==============================] - 2s 179ms/step - loss: 1.5834e-04 - val_loss: 0.0012\n",
            "Epoch 97/100\n",
            "12/12 [==============================] - 2s 188ms/step - loss: 1.5889e-04 - val_loss: 8.8280e-04\n",
            "Epoch 98/100\n",
            "12/12 [==============================] - 2s 181ms/step - loss: 1.5056e-04 - val_loss: 0.0011\n",
            "Epoch 99/100\n",
            "12/12 [==============================] - 2s 182ms/step - loss: 1.6067e-04 - val_loss: 9.8542e-04\n",
            "Epoch 100/100\n",
            "12/12 [==============================] - 2s 182ms/step - loss: 1.9244e-04 - val_loss: 9.8921e-04\n"
          ],
          "name": "stdout"
        },
        {
          "output_type": "execute_result",
          "data": {
            "text/plain": [
              "<tensorflow.python.keras.callbacks.History at 0x7f3ab7ea6f60>"
            ]
          },
          "metadata": {
            "tags": []
          },
          "execution_count": 29
        }
      ]
    },
    {
      "cell_type": "code",
      "metadata": {
        "id": "7jmQI2UltA7Z"
      },
      "source": [
        "import tensorflow as tf"
      ],
      "execution_count": 30,
      "outputs": []
    },
    {
      "cell_type": "code",
      "metadata": {
        "colab": {
          "base_uri": "https://localhost:8080/",
          "height": 35
        },
        "id": "P39_kuxUtA7Z",
        "outputId": "c412d621-7138-4cc1-e67f-cef15154db7f"
      },
      "source": [
        "tf.__version__"
      ],
      "execution_count": 31,
      "outputs": [
        {
          "output_type": "execute_result",
          "data": {
            "application/vnd.google.colaboratory.intrinsic+json": {
              "type": "string"
            },
            "text/plain": [
              "'2.3.0'"
            ]
          },
          "metadata": {
            "tags": []
          },
          "execution_count": 31
        }
      ]
    },
    {
      "cell_type": "code",
      "metadata": {
        "id": "UN1MhmubtA7Z"
      },
      "source": [
        "### Lets Do the prediction and check performance metrics\n",
        "train_predict=model.predict(X_train)\n",
        "test_predict=model.predict(X_test)"
      ],
      "execution_count": 32,
      "outputs": []
    },
    {
      "cell_type": "code",
      "metadata": {
        "id": "CWKcWo7ftA7Z"
      },
      "source": [
        "##Transformback to original form\n",
        "train_predict=scaler.inverse_transform(train_predict)\n",
        "test_predict=scaler.inverse_transform(test_predict)"
      ],
      "execution_count": 33,
      "outputs": []
    },
    {
      "cell_type": "code",
      "metadata": {
        "colab": {
          "base_uri": "https://localhost:8080/"
        },
        "id": "Do3JklPNtA7Z",
        "outputId": "1fa6e0f9-096a-451f-c022-2040654dcb41"
      },
      "source": [
        "### Calculate RMSE performance metrics\n",
        "import math\n",
        "from sklearn.metrics import mean_squared_error\n",
        "math.sqrt(mean_squared_error(y_train,train_predict))"
      ],
      "execution_count": 34,
      "outputs": [
        {
          "output_type": "execute_result",
          "data": {
            "text/plain": [
              "140.16520051815075"
            ]
          },
          "metadata": {
            "tags": []
          },
          "execution_count": 34
        }
      ]
    },
    {
      "cell_type": "code",
      "metadata": {
        "colab": {
          "base_uri": "https://localhost:8080/"
        },
        "id": "cic3vIDNtA7Z",
        "outputId": "4034c564-79df-4815-f1fe-7f193c40a638"
      },
      "source": [
        "### Test Data RMSE\n",
        "math.sqrt(mean_squared_error(ytest,test_predict))"
      ],
      "execution_count": 35,
      "outputs": [
        {
          "output_type": "execute_result",
          "data": {
            "text/plain": [
              "235.02076981496265"
            ]
          },
          "metadata": {
            "tags": []
          },
          "execution_count": 35
        }
      ]
    },
    {
      "cell_type": "code",
      "metadata": {
        "colab": {
          "base_uri": "https://localhost:8080/",
          "height": 265
        },
        "id": "2BGuIdWwtA7a",
        "outputId": "c278ed35-5bb0-4370-abb4-3d0e3afbf3e9"
      },
      "source": [
        "### Plotting \n",
        "# shift train predictions for plotting\n",
        "look_back=100\n",
        "trainPredictPlot = numpy.empty_like(df1)\n",
        "trainPredictPlot[:, :] = np.nan\n",
        "trainPredictPlot[look_back:len(train_predict)+look_back, :] = train_predict\n",
        "# shift test predictions for plotting\n",
        "testPredictPlot = numpy.empty_like(df1)\n",
        "testPredictPlot[:, :] = numpy.nan\n",
        "testPredictPlot[len(train_predict)+(look_back*2)+1:len(df1)-1, :] = test_predict\n",
        "# plot baseline and predictions\n",
        "plt.plot(scaler.inverse_transform(df1))\n",
        "plt.plot(trainPredictPlot)\n",
        "plt.plot(testPredictPlot)\n",
        "plt.show()"
      ],
      "execution_count": 36,
      "outputs": [
        {
          "output_type": "display_data",
          "data": {
            "image/png": "[encoded data removed]",
            "text/plain": [
              "<Figure size 432x288 with 1 Axes>"
            ]
          },
          "metadata": {
            "tags": [],
            "needs_background": "light"
          }
        }
      ]
    },
    {
      "cell_type": "code",
      "metadata": {
        "colab": {
          "base_uri": "https://localhost:8080/"
        },
        "id": "VoK5oOqMtA7a",
        "outputId": "23026bda-af86-4bbe-a92a-1ff7a5cf5712"
      },
      "source": [
        "len(test_data)"
      ],
      "execution_count": 37,
      "outputs": [
        {
          "output_type": "execute_result",
          "data": {
            "text/plain": [
              "441"
            ]
          },
          "metadata": {
            "tags": []
          },
          "execution_count": 37
        }
      ]
    },
    {
      "cell_type": "code",
      "metadata": {
        "colab": {
          "base_uri": "https://localhost:8080/"
        },
        "id": "SAmb9E_atA7a",
        "outputId": "d95ff9dc-c680-4e71-d9ac-fae074b82eb8"
      },
      "source": [
        "x_input=test_data[341:].reshape(1,-1)\n",
        "x_input.shape\n"
      ],
      "execution_count": 38,
      "outputs": [
        {
          "output_type": "execute_result",
          "data": {
            "text/plain": [
              "(1, 100)"
            ]
          },
          "metadata": {
            "tags": []
          },
          "execution_count": 38
        }
      ]
    },
    {
      "cell_type": "code",
      "metadata": {
        "id": "ISq6NEjftA7a"
      },
      "source": [
        ""
      ],
      "execution_count": null,
      "outputs": []
    },
    {
      "cell_type": "code",
      "metadata": {
        "id": "CKiU7b2qtA7a"
      },
      "source": [
        ""
      ],
      "execution_count": null,
      "outputs": []
    },
    {
      "cell_type": "code",
      "metadata": {
        "id": "hiREqHzFtA7a"
      },
      "source": [
        "temp_input=list(x_input)\n",
        "temp_input=temp_input[0].tolist()"
      ],
      "execution_count": 39,
      "outputs": []
    },
    {
      "cell_type": "code",
      "metadata": {
        "colab": {
          "base_uri": "https://localhost:8080/"
        },
        "id": "yDNkUw-2tA7a",
        "outputId": "882f3b1f-9996-47d0-a329-3ccc55ecab3a"
      },
      "source": [
        "temp_input"
      ],
      "execution_count": 40,
      "outputs": [
        {
          "output_type": "execute_result",
          "data": {
            "text/plain": [
              "[0.8583551465000423,\n",
              " 0.8866418981676942,\n",
              " 0.8743139407244789,\n",
              " 0.8843198513890065,\n",
              " 0.8783669678290975,\n",
              " 0.8986321033521913,\n",
              " 0.925821160179009,\n",
              " 0.9287764924427933,\n",
              " 0.9567677108840666,\n",
              " 0.9386979650426415,\n",
              " 0.933040614709111,\n",
              " 0.9495060373216249,\n",
              " 0.9642404796082076,\n",
              " 0.9551211686228154,\n",
              " 0.9598919192772104,\n",
              " 0.9663514312251966,\n",
              " 0.9624672802499368,\n",
              " 0.9229502659799038,\n",
              " 0.9598497002448705,\n",
              " 0.9879253567508233,\n",
              " 0.985941062230854,\n",
              " 0.9253145317909315,\n",
              " 0.9217259140420504,\n",
              " 0.964747107996285,\n",
              " 0.9757240564046274,\n",
              " 0.9915984125643842,\n",
              " 0.9697289538123788,\n",
              " 0.9761462467280253,\n",
              " 0.9679557544541082,\n",
              " 1.0000000000000002,\n",
              " 0.9901629654648318,\n",
              " 0.9905007177235499,\n",
              " 0.9653803934813816,\n",
              " 0.9848855864223593,\n",
              " 0.9708688676855528,\n",
              " 0.9402600692392133,\n",
              " 0.8774803681499621,\n",
              " 0.8348391454867856,\n",
              " 0.8541332432660644,\n",
              " 0.7733682344000676,\n",
              " 0.7726927298826314,\n",
              " 0.8801401671873683,\n",
              " 0.8400743054969182,\n",
              " 0.8967322468969012,\n",
              " 0.8552731571392387,\n",
              " 0.8388499535590646,\n",
              " 0.7423372456303303,\n",
              " 0.8232711306256861,\n",
              " 0.7814320695769654,\n",
              " 0.6665963016127672,\n",
              " 0.7921557037912694,\n",
              " 0.6411804441442204,\n",
              " 0.6861437135860848,\n",
              " 0.6600101325677616,\n",
              " 0.6520307354555435,\n",
              " 0.5864223591995272,\n",
              " 0.5658616904500551,\n",
              " 0.660896732246897,\n",
              " 0.6551549438486872,\n",
              " 0.7097019336316812,\n",
              " 0.664527569028118,\n",
              " 0.6943764248923416,\n",
              " 0.692181035210673,\n",
              " 0.6356919699400492,\n",
              " 0.6526640209406402,\n",
              " 0.637802921557038,\n",
              " 0.7267162036646122,\n",
              " 0.7138816178333194,\n",
              " 0.7419150553069325,\n",
              " 0.7500211095161702,\n",
              " 0.7722283205268936,\n",
              " 0.8304905851557884,\n",
              " 0.8194291986827664,\n",
              " 0.8289706999915563,\n",
              " 0.8125474964113824,\n",
              " 0.7877649244279323,\n",
              " 0.7516254327450818,\n",
              " 0.7842607447437306,\n",
              " 0.7797433082833742,\n",
              " 0.8132652199611587,\n",
              " 0.8141096006079542,\n",
              " 0.7947310647639958,\n",
              " 0.8333614793548934,\n",
              " 0.8589884319851391,\n",
              " 0.8390188296884238,\n",
              " 0.8562864139153934,\n",
              " 0.8748627881448958,\n",
              " 0.887824031073208,\n",
              " 0.9009541501308793,\n",
              " 0.9279321117959978,\n",
              " 0.9485349995778098,\n",
              " 0.9333361479354896,\n",
              " 0.9174617917757326,\n",
              " 0.925441188887951,\n",
              " 0.9177151059697712,\n",
              " 0.9483239044161109,\n",
              " 0.9406400405302711,\n",
              " 0.9663514312251966,\n",
              " 0.9563033015283293,\n",
              " 0.964915984125644]"
            ]
          },
          "metadata": {
            "tags": []
          },
          "execution_count": 40
        }
      ]
    },
    {
      "cell_type": "code",
      "metadata": {
        "colab": {
          "base_uri": "https://localhost:8080/"
        },
        "id": "CJxKs0_1tA7a",
        "outputId": "0dab434d-281e-4c88-de6c-e17b7689515a"
      },
      "source": [
        "# demonstrate prediction for next 10 days\n",
        "from numpy import array\n",
        "\n",
        "lst_output=[]\n",
        "n_steps=100\n",
        "i=0\n",
        "while(i<30):\n",
        "    \n",
        "    if(len(temp_input)>100):\n",
        "        #print(temp_input)\n",
        "        x_input=np.array(temp_input[1:])\n",
        "        print(\"{} day input {}\".format(i,x_input))\n",
        "        x_input=x_input.reshape(1,-1)\n",
        "        x_input = x_input.reshape((1, n_steps, 1))\n",
        "        #print(x_input)\n",
        "        yhat = model.predict(x_input, verbose=0)\n",
        "        print(\"{} day output {}\".format(i,yhat))\n",
        "        temp_input.extend(yhat[0].tolist())\n",
        "        temp_input=temp_input[1:]\n",
        "        #print(temp_input)\n",
        "        lst_output.extend(yhat.tolist())\n",
        "        i=i+1\n",
        "    else:\n",
        "        x_input = x_input.reshape((1, n_steps,1))\n",
        "        yhat = model.predict(x_input, verbose=0)\n",
        "        print(yhat[0])\n",
        "        temp_input.extend(yhat[0].tolist())\n",
        "        print(len(temp_input))\n",
        "        lst_output.extend(yhat.tolist())\n",
        "        i=i+1\n",
        "    \n",
        "\n",
        "print(lst_output)"
      ],
      "execution_count": 41,
      "outputs": [
        {
          "output_type": "stream",
          "text": [
            "[0.95668334]\n",
            "101\n",
            "1 day input [0.8866419  0.87431394 0.88431985 0.87836697 0.8986321  0.92582116\n",
            " 0.92877649 0.95676771 0.93869797 0.93304061 0.94950604 0.96424048\n",
            " 0.95512117 0.95989192 0.96635143 0.96246728 0.92295027 0.9598497\n",
            " 0.98792536 0.98594106 0.92531453 0.92172591 0.96474711 0.97572406\n",
            " 0.99159841 0.96972895 0.97614625 0.96795575 1.         0.99016297\n",
            " 0.99050072 0.96538039 0.98488559 0.97086887 0.94026007 0.87748037\n",
            " 0.83483915 0.85413324 0.77336823 0.77269273 0.88014017 0.84007431\n",
            " 0.89673225 0.85527316 0.83884995 0.74233725 0.82327113 0.78143207\n",
            " 0.6665963  0.7921557  0.64118044 0.68614371 0.66001013 0.65203074\n",
            " 0.58642236 0.56586169 0.66089673 0.65515494 0.70970193 0.66452757\n",
            " 0.69437642 0.69218104 0.63569197 0.65266402 0.63780292 0.7267162\n",
            " 0.71388162 0.74191506 0.75002111 0.77222832 0.83049059 0.8194292\n",
            " 0.8289707  0.8125475  0.78776492 0.75162543 0.78426074 0.77974331\n",
            " 0.81326522 0.8141096  0.79473106 0.83336148 0.85898843 0.83901883\n",
            " 0.85628641 0.87486279 0.88782403 0.90095415 0.92793211 0.948535\n",
            " 0.93333615 0.91746179 0.92544119 0.91771511 0.9483239  0.94064004\n",
            " 0.96635143 0.9563033  0.96491598 0.95668334]\n",
            "1 day output [[0.95289105]]\n",
            "2 day input [0.87431394 0.88431985 0.87836697 0.8986321  0.92582116 0.92877649\n",
            " 0.95676771 0.93869797 0.93304061 0.94950604 0.96424048 0.95512117\n",
            " 0.95989192 0.96635143 0.96246728 0.92295027 0.9598497  0.98792536\n",
            " 0.98594106 0.92531453 0.92172591 0.96474711 0.97572406 0.99159841\n",
            " 0.96972895 0.97614625 0.96795575 1.         0.99016297 0.99050072\n",
            " 0.96538039 0.98488559 0.97086887 0.94026007 0.87748037 0.83483915\n",
            " 0.85413324 0.77336823 0.77269273 0.88014017 0.84007431 0.89673225\n",
            " 0.85527316 0.83884995 0.74233725 0.82327113 0.78143207 0.6665963\n",
            " 0.7921557  0.64118044 0.68614371 0.66001013 0.65203074 0.58642236\n",
            " 0.56586169 0.66089673 0.65515494 0.70970193 0.66452757 0.69437642\n",
            " 0.69218104 0.63569197 0.65266402 0.63780292 0.7267162  0.71388162\n",
            " 0.74191506 0.75002111 0.77222832 0.83049059 0.8194292  0.8289707\n",
            " 0.8125475  0.78776492 0.75162543 0.78426074 0.77974331 0.81326522\n",
            " 0.8141096  0.79473106 0.83336148 0.85898843 0.83901883 0.85628641\n",
            " 0.87486279 0.88782403 0.90095415 0.92793211 0.948535   0.93333615\n",
            " 0.91746179 0.92544119 0.91771511 0.9483239  0.94064004 0.96635143\n",
            " 0.9563033  0.96491598 0.95668334 0.95289105]\n",
            "2 day output [[0.94464386]]\n",
            "3 day input [0.88431985 0.87836697 0.8986321  0.92582116 0.92877649 0.95676771\n",
            " 0.93869797 0.93304061 0.94950604 0.96424048 0.95512117 0.95989192\n",
            " 0.96635143 0.96246728 0.92295027 0.9598497  0.98792536 0.98594106\n",
            " 0.92531453 0.92172591 0.96474711 0.97572406 0.99159841 0.96972895\n",
            " 0.97614625 0.96795575 1.         0.99016297 0.99050072 0.96538039\n",
            " 0.98488559 0.97086887 0.94026007 0.87748037 0.83483915 0.85413324\n",
            " 0.77336823 0.77269273 0.88014017 0.84007431 0.89673225 0.85527316\n",
            " 0.83884995 0.74233725 0.82327113 0.78143207 0.6665963  0.7921557\n",
            " 0.64118044 0.68614371 0.66001013 0.65203074 0.58642236 0.56586169\n",
            " 0.66089673 0.65515494 0.70970193 0.66452757 0.69437642 0.69218104\n",
            " 0.63569197 0.65266402 0.63780292 0.7267162  0.71388162 0.74191506\n",
            " 0.75002111 0.77222832 0.83049059 0.8194292  0.8289707  0.8125475\n",
            " 0.78776492 0.75162543 0.78426074 0.77974331 0.81326522 0.8141096\n",
            " 0.79473106 0.83336148 0.85898843 0.83901883 0.85628641 0.87486279\n",
            " 0.88782403 0.90095415 0.92793211 0.948535   0.93333615 0.91746179\n",
            " 0.92544119 0.91771511 0.9483239  0.94064004 0.96635143 0.9563033\n",
            " 0.96491598 0.95668334 0.95289105 0.94464386]\n",
            "3 day output [[0.9354548]]\n",
            "4 day input [0.87836697 0.8986321  0.92582116 0.92877649 0.95676771 0.93869797\n",
            " 0.93304061 0.94950604 0.96424048 0.95512117 0.95989192 0.96635143\n",
            " 0.96246728 0.92295027 0.9598497  0.98792536 0.98594106 0.92531453\n",
            " 0.92172591 0.96474711 0.97572406 0.99159841 0.96972895 0.97614625\n",
            " 0.96795575 1.         0.99016297 0.99050072 0.96538039 0.98488559\n",
            " 0.97086887 0.94026007 0.87748037 0.83483915 0.85413324 0.77336823\n",
            " 0.77269273 0.88014017 0.84007431 0.89673225 0.85527316 0.83884995\n",
            " 0.74233725 0.82327113 0.78143207 0.6665963  0.7921557  0.64118044\n",
            " 0.68614371 0.66001013 0.65203074 0.58642236 0.56586169 0.66089673\n",
            " 0.65515494 0.70970193 0.66452757 0.69437642 0.69218104 0.63569197\n",
            " 0.65266402 0.63780292 0.7267162  0.71388162 0.74191506 0.75002111\n",
            " 0.77222832 0.83049059 0.8194292  0.8289707  0.8125475  0.78776492\n",
            " 0.75162543 0.78426074 0.77974331 0.81326522 0.8141096  0.79473106\n",
            " 0.83336148 0.85898843 0.83901883 0.85628641 0.87486279 0.88782403\n",
            " 0.90095415 0.92793211 0.948535   0.93333615 0.91746179 0.92544119\n",
            " 0.91771511 0.9483239  0.94064004 0.96635143 0.9563033  0.96491598\n",
            " 0.95668334 0.95289105 0.94464386 0.93545479]\n",
            "4 day output [[0.92746323]]\n",
            "5 day input [0.8986321  0.92582116 0.92877649 0.95676771 0.93869797 0.93304061\n",
            " 0.94950604 0.96424048 0.95512117 0.95989192 0.96635143 0.96246728\n",
            " 0.92295027 0.9598497  0.98792536 0.98594106 0.92531453 0.92172591\n",
            " 0.96474711 0.97572406 0.99159841 0.96972895 0.97614625 0.96795575\n",
            " 1.         0.99016297 0.99050072 0.96538039 0.98488559 0.97086887\n",
            " 0.94026007 0.87748037 0.83483915 0.85413324 0.77336823 0.77269273\n",
            " 0.88014017 0.84007431 0.89673225 0.85527316 0.83884995 0.74233725\n",
            " 0.82327113 0.78143207 0.6665963  0.7921557  0.64118044 0.68614371\n",
            " 0.66001013 0.65203074 0.58642236 0.56586169 0.66089673 0.65515494\n",
            " 0.70970193 0.66452757 0.69437642 0.69218104 0.63569197 0.65266402\n",
            " 0.63780292 0.7267162  0.71388162 0.74191506 0.75002111 0.77222832\n",
            " 0.83049059 0.8194292  0.8289707  0.8125475  0.78776492 0.75162543\n",
            " 0.78426074 0.77974331 0.81326522 0.8141096  0.79473106 0.83336148\n",
            " 0.85898843 0.83901883 0.85628641 0.87486279 0.88782403 0.90095415\n",
            " 0.92793211 0.948535   0.93333615 0.91746179 0.92544119 0.91771511\n",
            " 0.9483239  0.94064004 0.96635143 0.9563033  0.96491598 0.95668334\n",
            " 0.95289105 0.94464386 0.93545479 0.92746323]\n",
            "5 day output [[0.9216856]]\n",
            "6 day input [0.92582116 0.92877649 0.95676771 0.93869797 0.93304061 0.94950604\n",
            " 0.96424048 0.95512117 0.95989192 0.96635143 0.96246728 0.92295027\n",
            " 0.9598497  0.98792536 0.98594106 0.92531453 0.92172591 0.96474711\n",
            " 0.97572406 0.99159841 0.96972895 0.97614625 0.96795575 1.\n",
            " 0.99016297 0.99050072 0.96538039 0.98488559 0.97086887 0.94026007\n",
            " 0.87748037 0.83483915 0.85413324 0.77336823 0.77269273 0.88014017\n",
            " 0.84007431 0.89673225 0.85527316 0.83884995 0.74233725 0.82327113\n",
            " 0.78143207 0.6665963  0.7921557  0.64118044 0.68614371 0.66001013\n",
            " 0.65203074 0.58642236 0.56586169 0.66089673 0.65515494 0.70970193\n",
            " 0.66452757 0.69437642 0.69218104 0.63569197 0.65266402 0.63780292\n",
            " 0.7267162  0.71388162 0.74191506 0.75002111 0.77222832 0.83049059\n",
            " 0.8194292  0.8289707  0.8125475  0.78776492 0.75162543 0.78426074\n",
            " 0.77974331 0.81326522 0.8141096  0.79473106 0.83336148 0.85898843\n",
            " 0.83901883 0.85628641 0.87486279 0.88782403 0.90095415 0.92793211\n",
            " 0.948535   0.93333615 0.91746179 0.92544119 0.91771511 0.9483239\n",
            " 0.94064004 0.96635143 0.9563033  0.96491598 0.95668334 0.95289105\n",
            " 0.94464386 0.93545479 0.92746323 0.92168558]\n",
            "6 day output [[0.9183124]]\n",
            "7 day input [0.92877649 0.95676771 0.93869797 0.93304061 0.94950604 0.96424048\n",
            " 0.95512117 0.95989192 0.96635143 0.96246728 0.92295027 0.9598497\n",
            " 0.98792536 0.98594106 0.92531453 0.92172591 0.96474711 0.97572406\n",
            " 0.99159841 0.96972895 0.97614625 0.96795575 1.         0.99016297\n",
            " 0.99050072 0.96538039 0.98488559 0.97086887 0.94026007 0.87748037\n",
            " 0.83483915 0.85413324 0.77336823 0.77269273 0.88014017 0.84007431\n",
            " 0.89673225 0.85527316 0.83884995 0.74233725 0.82327113 0.78143207\n",
            " 0.6665963  0.7921557  0.64118044 0.68614371 0.66001013 0.65203074\n",
            " 0.58642236 0.56586169 0.66089673 0.65515494 0.70970193 0.66452757\n",
            " 0.69437642 0.69218104 0.63569197 0.65266402 0.63780292 0.7267162\n",
            " 0.71388162 0.74191506 0.75002111 0.77222832 0.83049059 0.8194292\n",
            " 0.8289707  0.8125475  0.78776492 0.75162543 0.78426074 0.77974331\n",
            " 0.81326522 0.8141096  0.79473106 0.83336148 0.85898843 0.83901883\n",
            " 0.85628641 0.87486279 0.88782403 0.90095415 0.92793211 0.948535\n",
            " 0.93333615 0.91746179 0.92544119 0.91771511 0.9483239  0.94064004\n",
            " 0.96635143 0.9563033  0.96491598 0.95668334 0.95289105 0.94464386\n",
            " 0.93545479 0.92746323 0.92168558 0.91831237]\n",
            "7 day output [[0.91695]]\n",
            "8 day input [0.95676771 0.93869797 0.93304061 0.94950604 0.96424048 0.95512117\n",
            " 0.95989192 0.96635143 0.96246728 0.92295027 0.9598497  0.98792536\n",
            " 0.98594106 0.92531453 0.92172591 0.96474711 0.97572406 0.99159841\n",
            " 0.96972895 0.97614625 0.96795575 1.         0.99016297 0.99050072\n",
            " 0.96538039 0.98488559 0.97086887 0.94026007 0.87748037 0.83483915\n",
            " 0.85413324 0.77336823 0.77269273 0.88014017 0.84007431 0.89673225\n",
            " 0.85527316 0.83884995 0.74233725 0.82327113 0.78143207 0.6665963\n",
            " 0.7921557  0.64118044 0.68614371 0.66001013 0.65203074 0.58642236\n",
            " 0.56586169 0.66089673 0.65515494 0.70970193 0.66452757 0.69437642\n",
            " 0.69218104 0.63569197 0.65266402 0.63780292 0.7267162  0.71388162\n",
            " 0.74191506 0.75002111 0.77222832 0.83049059 0.8194292  0.8289707\n",
            " 0.8125475  0.78776492 0.75162543 0.78426074 0.77974331 0.81326522\n",
            " 0.8141096  0.79473106 0.83336148 0.85898843 0.83901883 0.85628641\n",
            " 0.87486279 0.88782403 0.90095415 0.92793211 0.948535   0.93333615\n",
            " 0.91746179 0.92544119 0.91771511 0.9483239  0.94064004 0.96635143\n",
            " 0.9563033  0.96491598 0.95668334 0.95289105 0.94464386 0.93545479\n",
            " 0.92746323 0.92168558 0.91831237 0.91694999]\n",
            "8 day output [[0.91686815]]\n",
            "9 day input [0.93869797 0.93304061 0.94950604 0.96424048 0.95512117 0.95989192\n",
            " 0.96635143 0.96246728 0.92295027 0.9598497  0.98792536 0.98594106\n",
            " 0.92531453 0.92172591 0.96474711 0.97572406 0.99159841 0.96972895\n",
            " 0.97614625 0.96795575 1.         0.99016297 0.99050072 0.96538039\n",
            " 0.98488559 0.97086887 0.94026007 0.87748037 0.83483915 0.85413324\n",
            " 0.77336823 0.77269273 0.88014017 0.84007431 0.89673225 0.85527316\n",
            " 0.83884995 0.74233725 0.82327113 0.78143207 0.6665963  0.7921557\n",
            " 0.64118044 0.68614371 0.66001013 0.65203074 0.58642236 0.56586169\n",
            " 0.66089673 0.65515494 0.70970193 0.66452757 0.69437642 0.69218104\n",
            " 0.63569197 0.65266402 0.63780292 0.7267162  0.71388162 0.74191506\n",
            " 0.75002111 0.77222832 0.83049059 0.8194292  0.8289707  0.8125475\n",
            " 0.78776492 0.75162543 0.78426074 0.77974331 0.81326522 0.8141096\n",
            " 0.79473106 0.83336148 0.85898843 0.83901883 0.85628641 0.87486279\n",
            " 0.88782403 0.90095415 0.92793211 0.948535   0.93333615 0.91746179\n",
            " 0.92544119 0.91771511 0.9483239  0.94064004 0.96635143 0.9563033\n",
            " 0.96491598 0.95668334 0.95289105 0.94464386 0.93545479 0.92746323\n",
            " 0.92168558 0.91831237 0.91694999 0.91686815]\n",
            "9 day output [[0.9172488]]\n",
            "10 day input [0.93304061 0.94950604 0.96424048 0.95512117 0.95989192 0.96635143\n",
            " 0.96246728 0.92295027 0.9598497  0.98792536 0.98594106 0.92531453\n",
            " 0.92172591 0.96474711 0.97572406 0.99159841 0.96972895 0.97614625\n",
            " 0.96795575 1.         0.99016297 0.99050072 0.96538039 0.98488559\n",
            " 0.97086887 0.94026007 0.87748037 0.83483915 0.85413324 0.77336823\n",
            " 0.77269273 0.88014017 0.84007431 0.89673225 0.85527316 0.83884995\n",
            " 0.74233725 0.82327113 0.78143207 0.6665963  0.7921557  0.64118044\n",
            " 0.68614371 0.66001013 0.65203074 0.58642236 0.56586169 0.66089673\n",
            " 0.65515494 0.70970193 0.66452757 0.69437642 0.69218104 0.63569197\n",
            " 0.65266402 0.63780292 0.7267162  0.71388162 0.74191506 0.75002111\n",
            " 0.77222832 0.83049059 0.8194292  0.8289707  0.8125475  0.78776492\n",
            " 0.75162543 0.78426074 0.77974331 0.81326522 0.8141096  0.79473106\n",
            " 0.83336148 0.85898843 0.83901883 0.85628641 0.87486279 0.88782403\n",
            " 0.90095415 0.92793211 0.948535   0.93333615 0.91746179 0.92544119\n",
            " 0.91771511 0.9483239  0.94064004 0.96635143 0.9563033  0.96491598\n",
            " 0.95668334 0.95289105 0.94464386 0.93545479 0.92746323 0.92168558\n",
            " 0.91831237 0.91694999 0.91686815 0.91724879]\n",
            "10 day output [[0.9173954]]\n",
            "11 day input [0.94950604 0.96424048 0.95512117 0.95989192 0.96635143 0.96246728\n",
            " 0.92295027 0.9598497  0.98792536 0.98594106 0.92531453 0.92172591\n",
            " 0.96474711 0.97572406 0.99159841 0.96972895 0.97614625 0.96795575\n",
            " 1.         0.99016297 0.99050072 0.96538039 0.98488559 0.97086887\n",
            " 0.94026007 0.87748037 0.83483915 0.85413324 0.77336823 0.77269273\n",
            " 0.88014017 0.84007431 0.89673225 0.85527316 0.83884995 0.74233725\n",
            " 0.82327113 0.78143207 0.6665963  0.7921557  0.64118044 0.68614371\n",
            " 0.66001013 0.65203074 0.58642236 0.56586169 0.66089673 0.65515494\n",
            " 0.70970193 0.66452757 0.69437642 0.69218104 0.63569197 0.65266402\n",
            " 0.63780292 0.7267162  0.71388162 0.74191506 0.75002111 0.77222832\n",
            " 0.83049059 0.8194292  0.8289707  0.8125475  0.78776492 0.75162543\n",
            " 0.78426074 0.77974331 0.81326522 0.8141096  0.79473106 0.83336148\n",
            " 0.85898843 0.83901883 0.85628641 0.87486279 0.88782403 0.90095415\n",
            " 0.92793211 0.948535   0.93333615 0.91746179 0.92544119 0.91771511\n",
            " 0.9483239  0.94064004 0.96635143 0.9563033  0.96491598 0.95668334\n",
            " 0.95289105 0.94464386 0.93545479 0.92746323 0.92168558 0.91831237\n",
            " 0.91694999 0.91686815 0.91724879 0.91739541]\n",
            "11 day output [[0.91686267]]\n",
            "12 day input [0.96424048 0.95512117 0.95989192 0.96635143 0.96246728 0.92295027\n",
            " 0.9598497  0.98792536 0.98594106 0.92531453 0.92172591 0.96474711\n",
            " 0.97572406 0.99159841 0.96972895 0.97614625 0.96795575 1.\n",
            " 0.99016297 0.99050072 0.96538039 0.98488559 0.97086887 0.94026007\n",
            " 0.87748037 0.83483915 0.85413324 0.77336823 0.77269273 0.88014017\n",
            " 0.84007431 0.89673225 0.85527316 0.83884995 0.74233725 0.82327113\n",
            " 0.78143207 0.6665963  0.7921557  0.64118044 0.68614371 0.66001013\n",
            " 0.65203074 0.58642236 0.56586169 0.66089673 0.65515494 0.70970193\n",
            " 0.66452757 0.69437642 0.69218104 0.63569197 0.65266402 0.63780292\n",
            " 0.7267162  0.71388162 0.74191506 0.75002111 0.77222832 0.83049059\n",
            " 0.8194292  0.8289707  0.8125475  0.78776492 0.75162543 0.78426074\n",
            " 0.77974331 0.81326522 0.8141096  0.79473106 0.83336148 0.85898843\n",
            " 0.83901883 0.85628641 0.87486279 0.88782403 0.90095415 0.92793211\n",
            " 0.948535   0.93333615 0.91746179 0.92544119 0.91771511 0.9483239\n",
            " 0.94064004 0.96635143 0.9563033  0.96491598 0.95668334 0.95289105\n",
            " 0.94464386 0.93545479 0.92746323 0.92168558 0.91831237 0.91694999\n",
            " 0.91686815 0.91724879 0.91739541 0.91686267]\n",
            "12 day output [[0.91549736]]\n",
            "13 day input [0.95512117 0.95989192 0.96635143 0.96246728 0.92295027 0.9598497\n",
            " 0.98792536 0.98594106 0.92531453 0.92172591 0.96474711 0.97572406\n",
            " 0.99159841 0.96972895 0.97614625 0.96795575 1.         0.99016297\n",
            " 0.99050072 0.96538039 0.98488559 0.97086887 0.94026007 0.87748037\n",
            " 0.83483915 0.85413324 0.77336823 0.77269273 0.88014017 0.84007431\n",
            " 0.89673225 0.85527316 0.83884995 0.74233725 0.82327113 0.78143207\n",
            " 0.6665963  0.7921557  0.64118044 0.68614371 0.66001013 0.65203074\n",
            " 0.58642236 0.56586169 0.66089673 0.65515494 0.70970193 0.66452757\n",
            " 0.69437642 0.69218104 0.63569197 0.65266402 0.63780292 0.7267162\n",
            " 0.71388162 0.74191506 0.75002111 0.77222832 0.83049059 0.8194292\n",
            " 0.8289707  0.8125475  0.78776492 0.75162543 0.78426074 0.77974331\n",
            " 0.81326522 0.8141096  0.79473106 0.83336148 0.85898843 0.83901883\n",
            " 0.85628641 0.87486279 0.88782403 0.90095415 0.92793211 0.948535\n",
            " 0.93333615 0.91746179 0.92544119 0.91771511 0.9483239  0.94064004\n",
            " 0.96635143 0.9563033  0.96491598 0.95668334 0.95289105 0.94464386\n",
            " 0.93545479 0.92746323 0.92168558 0.91831237 0.91694999 0.91686815\n",
            " 0.91724879 0.91739541 0.91686267 0.91549736]\n",
            "13 day output [[0.91340107]]\n",
            "14 day input [0.95989192 0.96635143 0.96246728 0.92295027 0.9598497  0.98792536\n",
            " 0.98594106 0.92531453 0.92172591 0.96474711 0.97572406 0.99159841\n",
            " 0.96972895 0.97614625 0.96795575 1.         0.99016297 0.99050072\n",
            " 0.96538039 0.98488559 0.97086887 0.94026007 0.87748037 0.83483915\n",
            " 0.85413324 0.77336823 0.77269273 0.88014017 0.84007431 0.89673225\n",
            " 0.85527316 0.83884995 0.74233725 0.82327113 0.78143207 0.6665963\n",
            " 0.7921557  0.64118044 0.68614371 0.66001013 0.65203074 0.58642236\n",
            " 0.56586169 0.66089673 0.65515494 0.70970193 0.66452757 0.69437642\n",
            " 0.69218104 0.63569197 0.65266402 0.63780292 0.7267162  0.71388162\n",
            " 0.74191506 0.75002111 0.77222832 0.83049059 0.8194292  0.8289707\n",
            " 0.8125475  0.78776492 0.75162543 0.78426074 0.77974331 0.81326522\n",
            " 0.8141096  0.79473106 0.83336148 0.85898843 0.83901883 0.85628641\n",
            " 0.87486279 0.88782403 0.90095415 0.92793211 0.948535   0.93333615\n",
            " 0.91746179 0.92544119 0.91771511 0.9483239  0.94064004 0.96635143\n",
            " 0.9563033  0.96491598 0.95668334 0.95289105 0.94464386 0.93545479\n",
            " 0.92746323 0.92168558 0.91831237 0.91694999 0.91686815 0.91724879\n",
            " 0.91739541 0.91686267 0.91549736 0.91340107]\n",
            "14 day output [[0.91084725]]\n",
            "15 day input [0.96635143 0.96246728 0.92295027 0.9598497  0.98792536 0.98594106\n",
            " 0.92531453 0.92172591 0.96474711 0.97572406 0.99159841 0.96972895\n",
            " 0.97614625 0.96795575 1.         0.99016297 0.99050072 0.96538039\n",
            " 0.98488559 0.97086887 0.94026007 0.87748037 0.83483915 0.85413324\n",
            " 0.77336823 0.77269273 0.88014017 0.84007431 0.89673225 0.85527316\n",
            " 0.83884995 0.74233725 0.82327113 0.78143207 0.6665963  0.7921557\n",
            " 0.64118044 0.68614371 0.66001013 0.65203074 0.58642236 0.56586169\n",
            " 0.66089673 0.65515494 0.70970193 0.66452757 0.69437642 0.69218104\n",
            " 0.63569197 0.65266402 0.63780292 0.7267162  0.71388162 0.74191506\n",
            " 0.75002111 0.77222832 0.83049059 0.8194292  0.8289707  0.8125475\n",
            " 0.78776492 0.75162543 0.78426074 0.77974331 0.81326522 0.8141096\n",
            " 0.79473106 0.83336148 0.85898843 0.83901883 0.85628641 0.87486279\n",
            " 0.88782403 0.90095415 0.92793211 0.948535   0.93333615 0.91746179\n",
            " 0.92544119 0.91771511 0.9483239  0.94064004 0.96635143 0.9563033\n",
            " 0.96491598 0.95668334 0.95289105 0.94464386 0.93545479 0.92746323\n",
            " 0.92168558 0.91831237 0.91694999 0.91686815 0.91724879 0.91739541\n",
            " 0.91686267 0.91549736 0.91340107 0.91084725]\n",
            "15 day output [[0.90817684]]\n",
            "16 day input [0.96246728 0.92295027 0.9598497  0.98792536 0.98594106 0.92531453\n",
            " 0.92172591 0.96474711 0.97572406 0.99159841 0.96972895 0.97614625\n",
            " 0.96795575 1.         0.99016297 0.99050072 0.96538039 0.98488559\n",
            " 0.97086887 0.94026007 0.87748037 0.83483915 0.85413324 0.77336823\n",
            " 0.77269273 0.88014017 0.84007431 0.89673225 0.85527316 0.83884995\n",
            " 0.74233725 0.82327113 0.78143207 0.6665963  0.7921557  0.64118044\n",
            " 0.68614371 0.66001013 0.65203074 0.58642236 0.56586169 0.66089673\n",
            " 0.65515494 0.70970193 0.66452757 0.69437642 0.69218104 0.63569197\n",
            " 0.65266402 0.63780292 0.7267162  0.71388162 0.74191506 0.75002111\n",
            " 0.77222832 0.83049059 0.8194292  0.8289707  0.8125475  0.78776492\n",
            " 0.75162543 0.78426074 0.77974331 0.81326522 0.8141096  0.79473106\n",
            " 0.83336148 0.85898843 0.83901883 0.85628641 0.87486279 0.88782403\n",
            " 0.90095415 0.92793211 0.948535   0.93333615 0.91746179 0.92544119\n",
            " 0.91771511 0.9483239  0.94064004 0.96635143 0.9563033  0.96491598\n",
            " 0.95668334 0.95289105 0.94464386 0.93545479 0.92746323 0.92168558\n",
            " 0.91831237 0.91694999 0.91686815 0.91724879 0.91739541 0.91686267\n",
            " 0.91549736 0.91340107 0.91084725 0.90817684]\n",
            "16 day output [[0.90570426]]\n",
            "17 day input [0.92295027 0.9598497  0.98792536 0.98594106 0.92531453 0.92172591\n",
            " 0.96474711 0.97572406 0.99159841 0.96972895 0.97614625 0.96795575\n",
            " 1.         0.99016297 0.99050072 0.96538039 0.98488559 0.97086887\n",
            " 0.94026007 0.87748037 0.83483915 0.85413324 0.77336823 0.77269273\n",
            " 0.88014017 0.84007431 0.89673225 0.85527316 0.83884995 0.74233725\n",
            " 0.82327113 0.78143207 0.6665963  0.7921557  0.64118044 0.68614371\n",
            " 0.66001013 0.65203074 0.58642236 0.56586169 0.66089673 0.65515494\n",
            " 0.70970193 0.66452757 0.69437642 0.69218104 0.63569197 0.65266402\n",
            " 0.63780292 0.7267162  0.71388162 0.74191506 0.75002111 0.77222832\n",
            " 0.83049059 0.8194292  0.8289707  0.8125475  0.78776492 0.75162543\n",
            " 0.78426074 0.77974331 0.81326522 0.8141096  0.79473106 0.83336148\n",
            " 0.85898843 0.83901883 0.85628641 0.87486279 0.88782403 0.90095415\n",
            " 0.92793211 0.948535   0.93333615 0.91746179 0.92544119 0.91771511\n",
            " 0.9483239  0.94064004 0.96635143 0.9563033  0.96491598 0.95668334\n",
            " 0.95289105 0.94464386 0.93545479 0.92746323 0.92168558 0.91831237\n",
            " 0.91694999 0.91686815 0.91724879 0.91739541 0.91686267 0.91549736\n",
            " 0.91340107 0.91084725 0.90817684 0.90570426]\n",
            "17 day output [[0.9036467]]\n",
            "18 day input [0.9598497  0.98792536 0.98594106 0.92531453 0.92172591 0.96474711\n",
            " 0.97572406 0.99159841 0.96972895 0.97614625 0.96795575 1.\n",
            " 0.99016297 0.99050072 0.96538039 0.98488559 0.97086887 0.94026007\n",
            " 0.87748037 0.83483915 0.85413324 0.77336823 0.77269273 0.88014017\n",
            " 0.84007431 0.89673225 0.85527316 0.83884995 0.74233725 0.82327113\n",
            " 0.78143207 0.6665963  0.7921557  0.64118044 0.68614371 0.66001013\n",
            " 0.65203074 0.58642236 0.56586169 0.66089673 0.65515494 0.70970193\n",
            " 0.66452757 0.69437642 0.69218104 0.63569197 0.65266402 0.63780292\n",
            " 0.7267162  0.71388162 0.74191506 0.75002111 0.77222832 0.83049059\n",
            " 0.8194292  0.8289707  0.8125475  0.78776492 0.75162543 0.78426074\n",
            " 0.77974331 0.81326522 0.8141096  0.79473106 0.83336148 0.85898843\n",
            " 0.83901883 0.85628641 0.87486279 0.88782403 0.90095415 0.92793211\n",
            " 0.948535   0.93333615 0.91746179 0.92544119 0.91771511 0.9483239\n",
            " 0.94064004 0.96635143 0.9563033  0.96491598 0.95668334 0.95289105\n",
            " 0.94464386 0.93545479 0.92746323 0.92168558 0.91831237 0.91694999\n",
            " 0.91686815 0.91724879 0.91739541 0.91686267 0.91549736 0.91340107\n",
            " 0.91084725 0.90817684 0.90570426 0.90364671]\n",
            "18 day output [[0.9020933]]\n",
            "19 day input [0.98792536 0.98594106 0.92531453 0.92172591 0.96474711 0.97572406\n",
            " 0.99159841 0.96972895 0.97614625 0.96795575 1.         0.99016297\n",
            " 0.99050072 0.96538039 0.98488559 0.97086887 0.94026007 0.87748037\n",
            " 0.83483915 0.85413324 0.77336823 0.77269273 0.88014017 0.84007431\n",
            " 0.89673225 0.85527316 0.83884995 0.74233725 0.82327113 0.78143207\n",
            " 0.6665963  0.7921557  0.64118044 0.68614371 0.66001013 0.65203074\n",
            " 0.58642236 0.56586169 0.66089673 0.65515494 0.70970193 0.66452757\n",
            " 0.69437642 0.69218104 0.63569197 0.65266402 0.63780292 0.7267162\n",
            " 0.71388162 0.74191506 0.75002111 0.77222832 0.83049059 0.8194292\n",
            " 0.8289707  0.8125475  0.78776492 0.75162543 0.78426074 0.77974331\n",
            " 0.81326522 0.8141096  0.79473106 0.83336148 0.85898843 0.83901883\n",
            " 0.85628641 0.87486279 0.88782403 0.90095415 0.92793211 0.948535\n",
            " 0.93333615 0.91746179 0.92544119 0.91771511 0.9483239  0.94064004\n",
            " 0.96635143 0.9563033  0.96491598 0.95668334 0.95289105 0.94464386\n",
            " 0.93545479 0.92746323 0.92168558 0.91831237 0.91694999 0.91686815\n",
            " 0.91724879 0.91739541 0.91686267 0.91549736 0.91340107 0.91084725\n",
            " 0.90817684 0.90570426 0.90364671 0.90209329]\n",
            "19 day output [[0.90100855]]\n",
            "20 day input [0.98594106 0.92531453 0.92172591 0.96474711 0.97572406 0.99159841\n",
            " 0.96972895 0.97614625 0.96795575 1.         0.99016297 0.99050072\n",
            " 0.96538039 0.98488559 0.97086887 0.94026007 0.87748037 0.83483915\n",
            " 0.85413324 0.77336823 0.77269273 0.88014017 0.84007431 0.89673225\n",
            " 0.85527316 0.83884995 0.74233725 0.82327113 0.78143207 0.6665963\n",
            " 0.7921557  0.64118044 0.68614371 0.66001013 0.65203074 0.58642236\n",
            " 0.56586169 0.66089673 0.65515494 0.70970193 0.66452757 0.69437642\n",
            " 0.69218104 0.63569197 0.65266402 0.63780292 0.7267162  0.71388162\n",
            " 0.74191506 0.75002111 0.77222832 0.83049059 0.8194292  0.8289707\n",
            " 0.8125475  0.78776492 0.75162543 0.78426074 0.77974331 0.81326522\n",
            " 0.8141096  0.79473106 0.83336148 0.85898843 0.83901883 0.85628641\n",
            " 0.87486279 0.88782403 0.90095415 0.92793211 0.948535   0.93333615\n",
            " 0.91746179 0.92544119 0.91771511 0.9483239  0.94064004 0.96635143\n",
            " 0.9563033  0.96491598 0.95668334 0.95289105 0.94464386 0.93545479\n",
            " 0.92746323 0.92168558 0.91831237 0.91694999 0.91686815 0.91724879\n",
            " 0.91739541 0.91686267 0.91549736 0.91340107 0.91084725 0.90817684\n",
            " 0.90570426 0.90364671 0.90209329 0.90100855]\n",
            "20 day output [[0.9002652]]\n",
            "21 day input [0.92531453 0.92172591 0.96474711 0.97572406 0.99159841 0.96972895\n",
            " 0.97614625 0.96795575 1.         0.99016297 0.99050072 0.96538039\n",
            " 0.98488559 0.97086887 0.94026007 0.87748037 0.83483915 0.85413324\n",
            " 0.77336823 0.77269273 0.88014017 0.84007431 0.89673225 0.85527316\n",
            " 0.83884995 0.74233725 0.82327113 0.78143207 0.6665963  0.7921557\n",
            " 0.64118044 0.68614371 0.66001013 0.65203074 0.58642236 0.56586169\n",
            " 0.66089673 0.65515494 0.70970193 0.66452757 0.69437642 0.69218104\n",
            " 0.63569197 0.65266402 0.63780292 0.7267162  0.71388162 0.74191506\n",
            " 0.75002111 0.77222832 0.83049059 0.8194292  0.8289707  0.8125475\n",
            " 0.78776492 0.75162543 0.78426074 0.77974331 0.81326522 0.8141096\n",
            " 0.79473106 0.83336148 0.85898843 0.83901883 0.85628641 0.87486279\n",
            " 0.88782403 0.90095415 0.92793211 0.948535   0.93333615 0.91746179\n",
            " 0.92544119 0.91771511 0.9483239  0.94064004 0.96635143 0.9563033\n",
            " 0.96491598 0.95668334 0.95289105 0.94464386 0.93545479 0.92746323\n",
            " 0.92168558 0.91831237 0.91694999 0.91686815 0.91724879 0.91739541\n",
            " 0.91686267 0.91549736 0.91340107 0.91084725 0.90817684 0.90570426\n",
            " 0.90364671 0.90209329 0.90100855 0.90026522]\n",
            "21 day output [[0.8996907]]\n",
            "22 day input [0.92172591 0.96474711 0.97572406 0.99159841 0.96972895 0.97614625\n",
            " 0.96795575 1.         0.99016297 0.99050072 0.96538039 0.98488559\n",
            " 0.97086887 0.94026007 0.87748037 0.83483915 0.85413324 0.77336823\n",
            " 0.77269273 0.88014017 0.84007431 0.89673225 0.85527316 0.83884995\n",
            " 0.74233725 0.82327113 0.78143207 0.6665963  0.7921557  0.64118044\n",
            " 0.68614371 0.66001013 0.65203074 0.58642236 0.56586169 0.66089673\n",
            " 0.65515494 0.70970193 0.66452757 0.69437642 0.69218104 0.63569197\n",
            " 0.65266402 0.63780292 0.7267162  0.71388162 0.74191506 0.75002111\n",
            " 0.77222832 0.83049059 0.8194292  0.8289707  0.8125475  0.78776492\n",
            " 0.75162543 0.78426074 0.77974331 0.81326522 0.8141096  0.79473106\n",
            " 0.83336148 0.85898843 0.83901883 0.85628641 0.87486279 0.88782403\n",
            " 0.90095415 0.92793211 0.948535   0.93333615 0.91746179 0.92544119\n",
            " 0.91771511 0.9483239  0.94064004 0.96635143 0.9563033  0.96491598\n",
            " 0.95668334 0.95289105 0.94464386 0.93545479 0.92746323 0.92168558\n",
            " 0.91831237 0.91694999 0.91686815 0.91724879 0.91739541 0.91686267\n",
            " 0.91549736 0.91340107 0.91084725 0.90817684 0.90570426 0.90364671\n",
            " 0.90209329 0.90100855 0.90026522 0.89969069]\n",
            "22 day output [[0.899115]]\n",
            "23 day input [0.96474711 0.97572406 0.99159841 0.96972895 0.97614625 0.96795575\n",
            " 1.         0.99016297 0.99050072 0.96538039 0.98488559 0.97086887\n",
            " 0.94026007 0.87748037 0.83483915 0.85413324 0.77336823 0.77269273\n",
            " 0.88014017 0.84007431 0.89673225 0.85527316 0.83884995 0.74233725\n",
            " 0.82327113 0.78143207 0.6665963  0.7921557  0.64118044 0.68614371\n",
            " 0.66001013 0.65203074 0.58642236 0.56586169 0.66089673 0.65515494\n",
            " 0.70970193 0.66452757 0.69437642 0.69218104 0.63569197 0.65266402\n",
            " 0.63780292 0.7267162  0.71388162 0.74191506 0.75002111 0.77222832\n",
            " 0.83049059 0.8194292  0.8289707  0.8125475  0.78776492 0.75162543\n",
            " 0.78426074 0.77974331 0.81326522 0.8141096  0.79473106 0.83336148\n",
            " 0.85898843 0.83901883 0.85628641 0.87486279 0.88782403 0.90095415\n",
            " 0.92793211 0.948535   0.93333615 0.91746179 0.92544119 0.91771511\n",
            " 0.9483239  0.94064004 0.96635143 0.9563033  0.96491598 0.95668334\n",
            " 0.95289105 0.94464386 0.93545479 0.92746323 0.92168558 0.91831237\n",
            " 0.91694999 0.91686815 0.91724879 0.91739541 0.91686267 0.91549736\n",
            " 0.91340107 0.91084725 0.90817684 0.90570426 0.90364671 0.90209329\n",
            " 0.90100855 0.90026522 0.89969069 0.89911503]\n",
            "23 day output [[0.8984077]]\n",
            "24 day input [0.97572406 0.99159841 0.96972895 0.97614625 0.96795575 1.\n",
            " 0.99016297 0.99050072 0.96538039 0.98488559 0.97086887 0.94026007\n",
            " 0.87748037 0.83483915 0.85413324 0.77336823 0.77269273 0.88014017\n",
            " 0.84007431 0.89673225 0.85527316 0.83884995 0.74233725 0.82327113\n",
            " 0.78143207 0.6665963  0.7921557  0.64118044 0.68614371 0.66001013\n",
            " 0.65203074 0.58642236 0.56586169 0.66089673 0.65515494 0.70970193\n",
            " 0.66452757 0.69437642 0.69218104 0.63569197 0.65266402 0.63780292\n",
            " 0.7267162  0.71388162 0.74191506 0.75002111 0.77222832 0.83049059\n",
            " 0.8194292  0.8289707  0.8125475  0.78776492 0.75162543 0.78426074\n",
            " 0.77974331 0.81326522 0.8141096  0.79473106 0.83336148 0.85898843\n",
            " 0.83901883 0.85628641 0.87486279 0.88782403 0.90095415 0.92793211\n",
            " 0.948535   0.93333615 0.91746179 0.92544119 0.91771511 0.9483239\n",
            " 0.94064004 0.96635143 0.9563033  0.96491598 0.95668334 0.95289105\n",
            " 0.94464386 0.93545479 0.92746323 0.92168558 0.91831237 0.91694999\n",
            " 0.91686815 0.91724879 0.91739541 0.91686267 0.91549736 0.91340107\n",
            " 0.91084725 0.90817684 0.90570426 0.90364671 0.90209329 0.90100855\n",
            " 0.90026522 0.89969069 0.89911503 0.8984077 ]\n",
            "24 day output [[0.8974967]]\n",
            "25 day input [0.99159841 0.96972895 0.97614625 0.96795575 1.         0.99016297\n",
            " 0.99050072 0.96538039 0.98488559 0.97086887 0.94026007 0.87748037\n",
            " 0.83483915 0.85413324 0.77336823 0.77269273 0.88014017 0.84007431\n",
            " 0.89673225 0.85527316 0.83884995 0.74233725 0.82327113 0.78143207\n",
            " 0.6665963  0.7921557  0.64118044 0.68614371 0.66001013 0.65203074\n",
            " 0.58642236 0.56586169 0.66089673 0.65515494 0.70970193 0.66452757\n",
            " 0.69437642 0.69218104 0.63569197 0.65266402 0.63780292 0.7267162\n",
            " 0.71388162 0.74191506 0.75002111 0.77222832 0.83049059 0.8194292\n",
            " 0.8289707  0.8125475  0.78776492 0.75162543 0.78426074 0.77974331\n",
            " 0.81326522 0.8141096  0.79473106 0.83336148 0.85898843 0.83901883\n",
            " 0.85628641 0.87486279 0.88782403 0.90095415 0.92793211 0.948535\n",
            " 0.93333615 0.91746179 0.92544119 0.91771511 0.9483239  0.94064004\n",
            " 0.96635143 0.9563033  0.96491598 0.95668334 0.95289105 0.94464386\n",
            " 0.93545479 0.92746323 0.92168558 0.91831237 0.91694999 0.91686815\n",
            " 0.91724879 0.91739541 0.91686267 0.91549736 0.91340107 0.91084725\n",
            " 0.90817684 0.90570426 0.90364671 0.90209329 0.90100855 0.90026522\n",
            " 0.89969069 0.89911503 0.8984077  0.8974967 ]\n",
            "25 day output [[0.8963718]]\n",
            "26 day input [0.96972895 0.97614625 0.96795575 1.         0.99016297 0.99050072\n",
            " 0.96538039 0.98488559 0.97086887 0.94026007 0.87748037 0.83483915\n",
            " 0.85413324 0.77336823 0.77269273 0.88014017 0.84007431 0.89673225\n",
            " 0.85527316 0.83884995 0.74233725 0.82327113 0.78143207 0.6665963\n",
            " 0.7921557  0.64118044 0.68614371 0.66001013 0.65203074 0.58642236\n",
            " 0.56586169 0.66089673 0.65515494 0.70970193 0.66452757 0.69437642\n",
            " 0.69218104 0.63569197 0.65266402 0.63780292 0.7267162  0.71388162\n",
            " 0.74191506 0.75002111 0.77222832 0.83049059 0.8194292  0.8289707\n",
            " 0.8125475  0.78776492 0.75162543 0.78426074 0.77974331 0.81326522\n",
            " 0.8141096  0.79473106 0.83336148 0.85898843 0.83901883 0.85628641\n",
            " 0.87486279 0.88782403 0.90095415 0.92793211 0.948535   0.93333615\n",
            " 0.91746179 0.92544119 0.91771511 0.9483239  0.94064004 0.96635143\n",
            " 0.9563033  0.96491598 0.95668334 0.95289105 0.94464386 0.93545479\n",
            " 0.92746323 0.92168558 0.91831237 0.91694999 0.91686815 0.91724879\n",
            " 0.91739541 0.91686267 0.91549736 0.91340107 0.91084725 0.90817684\n",
            " 0.90570426 0.90364671 0.90209329 0.90100855 0.90026522 0.89969069\n",
            " 0.89911503 0.8984077  0.8974967  0.89637178]\n",
            "26 day output [[0.89507216]]\n",
            "27 day input [0.97614625 0.96795575 1.         0.99016297 0.99050072 0.96538039\n",
            " 0.98488559 0.97086887 0.94026007 0.87748037 0.83483915 0.85413324\n",
            " 0.77336823 0.77269273 0.88014017 0.84007431 0.89673225 0.85527316\n",
            " 0.83884995 0.74233725 0.82327113 0.78143207 0.6665963  0.7921557\n",
            " 0.64118044 0.68614371 0.66001013 0.65203074 0.58642236 0.56586169\n",
            " 0.66089673 0.65515494 0.70970193 0.66452757 0.69437642 0.69218104\n",
            " 0.63569197 0.65266402 0.63780292 0.7267162  0.71388162 0.74191506\n",
            " 0.75002111 0.77222832 0.83049059 0.8194292  0.8289707  0.8125475\n",
            " 0.78776492 0.75162543 0.78426074 0.77974331 0.81326522 0.8141096\n",
            " 0.79473106 0.83336148 0.85898843 0.83901883 0.85628641 0.87486279\n",
            " 0.88782403 0.90095415 0.92793211 0.948535   0.93333615 0.91746179\n",
            " 0.92544119 0.91771511 0.9483239  0.94064004 0.96635143 0.9563033\n",
            " 0.96491598 0.95668334 0.95289105 0.94464386 0.93545479 0.92746323\n",
            " 0.92168558 0.91831237 0.91694999 0.91686815 0.91724879 0.91739541\n",
            " 0.91686267 0.91549736 0.91340107 0.91084725 0.90817684 0.90570426\n",
            " 0.90364671 0.90209329 0.90100855 0.90026522 0.89969069 0.89911503\n",
            " 0.8984077  0.8974967  0.89637178 0.89507216]\n",
            "27 day output [[0.89366657]]\n",
            "28 day input [0.96795575 1.         0.99016297 0.99050072 0.96538039 0.98488559\n",
            " 0.97086887 0.94026007 0.87748037 0.83483915 0.85413324 0.77336823\n",
            " 0.77269273 0.88014017 0.84007431 0.89673225 0.85527316 0.83884995\n",
            " 0.74233725 0.82327113 0.78143207 0.6665963  0.7921557  0.64118044\n",
            " 0.68614371 0.66001013 0.65203074 0.58642236 0.56586169 0.66089673\n",
            " 0.65515494 0.70970193 0.66452757 0.69437642 0.69218104 0.63569197\n",
            " 0.65266402 0.63780292 0.7267162  0.71388162 0.74191506 0.75002111\n",
            " 0.77222832 0.83049059 0.8194292  0.8289707  0.8125475  0.78776492\n",
            " 0.75162543 0.78426074 0.77974331 0.81326522 0.8141096  0.79473106\n",
            " 0.83336148 0.85898843 0.83901883 0.85628641 0.87486279 0.88782403\n",
            " 0.90095415 0.92793211 0.948535   0.93333615 0.91746179 0.92544119\n",
            " 0.91771511 0.9483239  0.94064004 0.96635143 0.9563033  0.96491598\n",
            " 0.95668334 0.95289105 0.94464386 0.93545479 0.92746323 0.92168558\n",
            " 0.91831237 0.91694999 0.91686815 0.91724879 0.91739541 0.91686267\n",
            " 0.91549736 0.91340107 0.91084725 0.90817684 0.90570426 0.90364671\n",
            " 0.90209329 0.90100855 0.90026522 0.89969069 0.89911503 0.8984077\n",
            " 0.8974967  0.89637178 0.89507216 0.89366657]\n",
            "28 day output [[0.89223015]]\n",
            "29 day input [1.         0.99016297 0.99050072 0.96538039 0.98488559 0.97086887\n",
            " 0.94026007 0.87748037 0.83483915 0.85413324 0.77336823 0.77269273\n",
            " 0.88014017 0.84007431 0.89673225 0.85527316 0.83884995 0.74233725\n",
            " 0.82327113 0.78143207 0.6665963  0.7921557  0.64118044 0.68614371\n",
            " 0.66001013 0.65203074 0.58642236 0.56586169 0.66089673 0.65515494\n",
            " 0.70970193 0.66452757 0.69437642 0.69218104 0.63569197 0.65266402\n",
            " 0.63780292 0.7267162  0.71388162 0.74191506 0.75002111 0.77222832\n",
            " 0.83049059 0.8194292  0.8289707  0.8125475  0.78776492 0.75162543\n",
            " 0.78426074 0.77974331 0.81326522 0.8141096  0.79473106 0.83336148\n",
            " 0.85898843 0.83901883 0.85628641 0.87486279 0.88782403 0.90095415\n",
            " 0.92793211 0.948535   0.93333615 0.91746179 0.92544119 0.91771511\n",
            " 0.9483239  0.94064004 0.96635143 0.9563033  0.96491598 0.95668334\n",
            " 0.95289105 0.94464386 0.93545479 0.92746323 0.92168558 0.91831237\n",
            " 0.91694999 0.91686815 0.91724879 0.91739541 0.91686267 0.91549736\n",
            " 0.91340107 0.91084725 0.90817684 0.90570426 0.90364671 0.90209329\n",
            " 0.90100855 0.90026522 0.89969069 0.89911503 0.8984077  0.8974967\n",
            " 0.89637178 0.89507216 0.89366657 0.89223015]\n",
            "29 day output [[0.8908268]]\n",
            "[[0.956683337688446], [0.9528910517692566], [0.9446438550949097], [0.935454785823822], [0.9274632334709167], [0.9216855764389038], [0.9183123707771301], [0.916949987411499], [0.9168681502342224], [0.9172487854957581], [0.9173954129219055], [0.9168626666069031], [0.915497362613678], [0.9134010672569275], [0.9108472466468811], [0.908176839351654], [0.9057042598724365], [0.90364670753479], [0.9020932912826538], [0.9010085463523865], [0.9002652168273926], [0.8996906876564026], [0.8991150259971619], [0.8984076976776123], [0.8974967002868652], [0.8963717818260193], [0.8950721621513367], [0.8936665654182434], [0.8922301530838013], [0.8908268213272095]]\n"
          ],
          "name": "stdout"
        }
      ]
    },
    {
      "cell_type": "code",
      "metadata": {
        "id": "KTp5NixytA7a"
      },
      "source": [
        "day_new=np.arange(1,101)\n",
        "day_pred=np.arange(101,131)"
      ],
      "execution_count": 42,
      "outputs": []
    },
    {
      "cell_type": "code",
      "metadata": {
        "id": "80rem7KmtA7a"
      },
      "source": [
        "import matplotlib.pyplot as plt"
      ],
      "execution_count": 43,
      "outputs": []
    },
    {
      "cell_type": "code",
      "metadata": {
        "colab": {
          "base_uri": "https://localhost:8080/"
        },
        "id": "wT9tERRutA7a",
        "outputId": "a7bc00b4-d11a-4d26-e5db-09f50517ea9d"
      },
      "source": [
        "len(df1)"
      ],
      "execution_count": 44,
      "outputs": [
        {
          "output_type": "execute_result",
          "data": {
            "text/plain": [
              "1258"
            ]
          },
          "metadata": {
            "tags": []
          },
          "execution_count": 44
        }
      ]
    },
    {
      "cell_type": "code",
      "metadata": {
        "id": "P094hWietA7b"
      },
      "source": [
        ""
      ],
      "execution_count": 44,
      "outputs": []
    },
    {
      "cell_type": "code",
      "metadata": {
        "id": "dn-yGCn3tA7b",
        "outputId": "518e8f6e-ffe1-40d8-d7b6-f34676bd8690"
      },
      "source": [
        "plt.plot(day_new,scaler.inverse_transform(df1[1158:]))\n",
        "plt.plot(day_pred,scaler.inverse_transform(lst_output))"
      ],
      "execution_count": null,
      "outputs": [
        {
          "output_type": "execute_result",
          "data": {
            "text/plain": [
              "[<matplotlib.lines.Line2D at 0x2d1b0f352b0>]"
            ]
          },
          "metadata": {
            "tags": []
          },
          "execution_count": 444
        },
        {
          "output_type": "display_data",
          "data": {
            "image/png": "[encoded data removed]",
            "text/plain": [
              "<Figure size 432x288 with 1 Axes>"
            ]
          },
          "metadata": {
            "tags": [],
            "needs_background": "light"
          }
        }
      ]
    },
    {
      "cell_type": "code",
      "metadata": {
        "colab": {
          "base_uri": "https://localhost:8080/",
          "height": 283
        },
        "id": "q6bssmyWtA7b",
        "outputId": "af366878-c8a6-4b11-8177-ae1a15d95690"
      },
      "source": [
        "df3=df1.tolist()\n",
        "df3.extend(lst_output)\n",
        "plt.plot(df3[1200:])"
      ],
      "execution_count": 45,
      "outputs": [
        {
          "output_type": "execute_result",
          "data": {
            "text/plain": [
              "[<matplotlib.lines.Line2D at 0x7f3ab3505160>]"
            ]
          },
          "metadata": {
            "tags": []
          },
          "execution_count": 45
        },
        {
          "output_type": "display_data",
          "data": {
            "image/png": "[encoded data removed]",
            "text/plain": [
              "<Figure size 432x288 with 1 Axes>"
            ]
          },
          "metadata": {
            "tags": [],
            "needs_background": "light"
          }
        }
      ]
    },
    {
      "cell_type": "code",
      "metadata": {
        "id": "AJOzBVnltA7b"
      },
      "source": [
        "df3=scaler.inverse_transform(df3).tolist()"
      ],
      "execution_count": 46,
      "outputs": []
    },
    {
      "cell_type": "code",
      "metadata": {
        "colab": {
          "base_uri": "https://localhost:8080/",
          "height": 283
        },
        "id": "RB7hLC3_tA7b",
        "outputId": "aa523891-23c5-4b2b-a6b0-4f81160925ef"
      },
      "source": [
        "plt.plot(df3)"
      ],
      "execution_count": 47,
      "outputs": [
        {
          "output_type": "execute_result",
          "data": {
            "text/plain": [
              "[<matplotlib.lines.Line2D at 0x7f3ab341f278>]"
            ]
          },
          "metadata": {
            "tags": []
          },
          "execution_count": 47
        },
        {
          "output_type": "display_data",
          "data": {
            "image/png": "[encoded data removed]",
            "text/plain": [
              "<Figure size 432x288 with 1 Axes>"
            ]
          },
          "metadata": {
            "tags": [],
            "needs_background": "light"
          }
        }
      ]
    },
    {
      "cell_type": "code",
      "metadata": {
        "id": "cZqPsfgOtA7b"
      },
      "source": [
        ""
      ],
      "execution_count": null,
      "outputs": []
    }
  ]
}