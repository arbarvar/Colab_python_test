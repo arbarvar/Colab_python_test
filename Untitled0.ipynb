{
  "nbformat": 4,
  "nbformat_minor": 0,
  "metadata": {
    "colab": {
      "name": "Untitled0.ipynb",
      "provenance": [],
      "authorship_tag": "ABX9TyOSsuQMfARfCDbfZvxVLo3y",
      "include_colab_link": true
    },
    "kernelspec": {
      "name": "python3",
      "display_name": "Python 3"
    }
  },
  "cells": [
    {
      "cell_type": "markdown",
      "metadata": {
        "id": "view-in-github",
        "colab_type": "text"
      },
      "source": [
        "<a href=\"https://colab.research.google.com/github/arbarvar/Colab_python_test/blob/main/Untitled0.ipynb\" target=\"_parent\"><img src=\"https://colab.research.google.com/assets/colab-badge.svg\" alt=\"Open In Colab\"/></a>"
      ]
    },
    {
      "cell_type": "code",
      "metadata": {
        "id": "qJcOEUxRwHMh"
      },
      "source": [
        "#install the dependencies\n",
        "import numpy as np\n",
        "import pandas as pd\n",
        "from sklearn.tree import DecisionTreeRegressor\n",
        "from sklearn.linear_model import LinearRegression\n",
        "from sklearn.model_selection import train_test_split\n",
        "import matplotlib.pyplot as plt\n",
        "plt.style.use(\"bmh\")"
      ],
      "execution_count": 66,
      "outputs": []
    },
    {
      "cell_type": "code",
      "metadata": {
        "id": "9y9XF1MPzIFe"
      },
      "source": [
        "# load local data from stock\n",
        "from google.colab import files\n",
        "upload = files.upload()"
      ],
      "execution_count": null,
      "outputs": []
    },
    {
      "cell_type": "code",
      "metadata": {
        "id": "sDaS9IRvztJR"
      },
      "source": [
        "#store the data in a data frame\n",
        "df= pd.read_csv('Iran Mobil Tele.csv')\n",
        "df.head(6)"
      ],
      "execution_count": null,
      "outputs": []
    },
    {
      "cell_type": "code",
      "metadata": {
        "id": "TLssbxeo0pTj"
      },
      "source": [
        "#number of trading dayes\n",
        "df.shape"
      ],
      "execution_count": null,
      "outputs": []
    },
    {
      "cell_type": "code",
      "metadata": {
        "id": "KW62sRsI0_uY"
      },
      "source": [
        "#Visualize the close price data\n",
        "plt.figure(figsize=(16,8))\n",
        "plt.title(\"Iran Mobil Tele\")\n",
        "plt.xlabel('Days')\n",
        "plt.ylabel('close price \"RLS\"')\n",
        "plt.plot(['<CLOSE>'])\n",
        "plt.show()"
      ],
      "execution_count": null,
      "outputs": []
    },
    {
      "cell_type": "code",
      "metadata": {
        "id": "zJv8NUOOARhf",
        "outputId": "050cb512-4ba4-4094-d25e-457dae68f235",
        "colab": {
          "base_uri": "https://localhost:8080/",
          "height": 208
        }
      },
      "source": [
        "# Get Close Price\n",
        "df = df[['<CLOSE>']]\n",
        "df.head(6)"
      ],
      "execution_count": 1,
      "outputs": [
        {
          "output_type": "error",
          "ename": "NameError",
          "evalue": "ignored",
          "traceback": [
            "\u001b[0;31m---------------------------------------------------------------------------\u001b[0m",
            "\u001b[0;31mNameError\u001b[0m                                 Traceback (most recent call last)",
            "\u001b[0;32m<ipython-input-1-abb91505cae6>\u001b[0m in \u001b[0;36m<module>\u001b[0;34m()\u001b[0m\n\u001b[1;32m      1\u001b[0m \u001b[0;31m# Get Close Price\u001b[0m\u001b[0;34m\u001b[0m\u001b[0;34m\u001b[0m\u001b[0;34m\u001b[0m\u001b[0m\n\u001b[0;32m----> 2\u001b[0;31m \u001b[0mdf\u001b[0m \u001b[0;34m=\u001b[0m \u001b[0mdf\u001b[0m\u001b[0;34m[\u001b[0m\u001b[0;34m[\u001b[0m\u001b[0;34m'<CLOSE>'\u001b[0m\u001b[0;34m]\u001b[0m\u001b[0;34m]\u001b[0m\u001b[0;34m\u001b[0m\u001b[0;34m\u001b[0m\u001b[0m\n\u001b[0m\u001b[1;32m      3\u001b[0m \u001b[0mdf\u001b[0m\u001b[0;34m.\u001b[0m\u001b[0mhead\u001b[0m\u001b[0;34m(\u001b[0m\u001b[0;36m6\u001b[0m\u001b[0;34m)\u001b[0m\u001b[0;34m\u001b[0m\u001b[0;34m\u001b[0m\u001b[0m\n",
            "\u001b[0;31mNameError\u001b[0m: name 'df' is not defined"
          ]
        }
      ]
    },
    {
      "cell_type": "code",
      "metadata": {
        "id": "MUX59P_7A2x8"
      },
      "source": [
        "# create a variable that pridect 'x' deys out into the future\n",
        "future_days = 25\n",
        "#create a new column (target) shifted 'x' units/days up\n",
        "df['prediction'] = df[['<CLOSE>']].shift(-future_days)\n",
        "df.head(4)\n",
        "df.tail(4)"
      ],
      "execution_count": null,
      "outputs": []
    },
    {
      "cell_type": "code",
      "metadata": {
        "id": "tJhikyrKHnX3"
      },
      "source": [
        "#Create the feature data set (x) and convert it to a numpy array and remove the last 'x' raws/days\n",
        "x=np.array(df.drop(['prediction'],1))[:-future_days]\n",
        "print(x)"
      ],
      "execution_count": null,
      "outputs": []
    },
    {
      "cell_type": "code",
      "metadata": {
        "id": "u6PVv5psJHuv"
      },
      "source": [
        "#create the target data set (y) and convert it to a numpy array and get all target values except the last 'x' rows/days\n",
        "y=np.array(df['prediction'])[:-future_days]\n",
        "print(y)"
      ],
      "execution_count": null,
      "outputs": []
    },
    {
      "cell_type": "code",
      "metadata": {
        "id": "lbErM3EfKt_v"
      },
      "source": [
        "#split data into 75% trainig and 25% testing\n",
        "x_train,x_test,y_train,y_test = train_test_split(x,y,test_size=0.25)"
      ],
      "execution_count": 72,
      "outputs": []
    },
    {
      "cell_type": "code",
      "metadata": {
        "id": "xHEfKK8qLdUI"
      },
      "source": [
        "#create the models\n",
        "#Create the decision tree regressor models\n",
        "tree = DecisionTreeRegressor().fit(x_train,y_train)\n",
        "#Create the linear Regression model\n",
        "lr=LinearRegression().fit(x_train,y_train)"
      ],
      "execution_count": 73,
      "outputs": []
    },
    {
      "cell_type": "code",
      "metadata": {
        "id": "CnrhtPaZMqlB"
      },
      "source": [
        "#Get the last 'x' rows of the feature data set\n",
        "x_future= df.drop(['prediction'],1)[:-future_days]\n",
        "x_future = x_future.tail(future_days)\n",
        "x_future= np.array(x_future)\n",
        "x_future"
      ],
      "execution_count": null,
      "outputs": []
    },
    {
      "cell_type": "code",
      "metadata": {
        "id": "aId2LJKvPcTc"
      },
      "source": [
        "#Show the model pridect\n",
        "tree_prediction = tree.predict(x_future)\n",
        "print(tree_prediction)\n",
        "print()\n",
        "#show the model linear regression prediction\n",
        "lr_prediction = lr.predict(x_future)\n",
        "print(lr_prediction)"
      ],
      "execution_count": null,
      "outputs": []
    },
    {
      "cell_type": "code",
      "metadata": {
        "id": "nscMr611RPRw"
      },
      "source": [
        "#Visualize the data (tree regressor)\n",
        "predictions=tree_prediction\n",
        "\n",
        "valid=df[x.shape[0]:]\n",
        "valid['Predictions']=predictions\n",
        "plt.figure(figsize=(16,8))\n",
        "plt.title('model')\n",
        "plt.xlabel('date')\n",
        "plt.ylabel('close price RLS')\n",
        "plt.plot(df['<CLOSE>'])\n",
        "plt.plot(valid[['<CLOSE>','Predictions']])\n",
        "plt.legend(['orig','val','pred'])\n",
        "plt.show()"
      ],
      "execution_count": null,
      "outputs": []
    },
    {
      "cell_type": "code",
      "metadata": {
        "id": "kvPJ9EEoUfmN"
      },
      "source": [
        "#Visualize the data (linear regression)\n",
        "predictions=lr_prediction\n",
        "\n",
        "valid=df[x.shape[0]:]\n",
        "valid['Predictions']=predictions\n",
        "plt.figure(figsize=(16,8))\n",
        "plt.title('model')\n",
        "plt.xlabel('date')\n",
        "plt.ylabel('close price RLS')\n",
        "plt.plot(df['<CLOSE>'])\n",
        "plt.plot(valid[['<CLOSE>','Predictions']])\n",
        "plt.legend(['orig','val','pred'])\n",
        "plt.show()"
      ],
      "execution_count": null,
      "outputs": []
    }
  ]
}