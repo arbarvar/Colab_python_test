{
  "nbformat": 4,
  "nbformat_minor": 0,
  "metadata": {
    "colab": {
      "name": "onedypredict_tsetmc.ipynb",
      "provenance": [],
      "include_colab_link": true
    },
    "kernelspec": {
      "name": "python3",
      "display_name": "Python 3"
    }
  },
  "cells": [
    {
      "cell_type": "markdown",
      "metadata": {
        "id": "view-in-github",
        "colab_type": "text"
      },
      "source": [
        "<a href=\"https://colab.research.google.com/github/arbarvar/Colab_python_test/blob/main/onedypredict_tsetmc.ipynb\" target=\"_parent\"><img src=\"https://colab.research.google.com/assets/colab-badge.svg\" alt=\"Open In Colab\"/></a>"
      ]
    },
    {
      "cell_type": "code",
      "metadata": {
        "id": "ci6TTzAUBBrp"
      },
      "source": [
        "#https://www.youtube.com/watch?v=KYc0EFN-VnM\n",
        "#Create Your Own Tsetmc Prediction Program Using Python And Machine Learning\n",
        "#Description: this program predict the price of Google Stock for a specific day"
      ],
      "execution_count": 1,
      "outputs": []
    },
    {
      "cell_type": "code",
      "metadata": {
        "id": "B7qhwXfOB2Lf"
      },
      "source": [
        "#import libraries\n",
        "import pandas as pd\n",
        "import numpy as np\n",
        "import matplotlib.pyplot as plt\n",
        "from sklearn.svm import SVR\n",
        "\n",
        "plt.style.use('seaborn-darkgrid')"
      ],
      "execution_count": 24,
      "outputs": []
    },
    {
      "cell_type": "code",
      "metadata": {
        "id": "ZBkSZRQUDFh3",
        "colab": {
          "resources": {
            "http://localhost:8080/nbextensions/google.colab/files.js": {
              "data": "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",
              "ok": true,
              "headers": [
                [
                  "content-type",
                  "application/javascript"
                ]
              ],
              "status": 200,
              "status_text": ""
            }
          },
          "base_uri": "https://localhost:8080/",
          "height": 73
        },
        "outputId": "f251cfa4-68b2-4003-96ff-a1073025515b"
      },
      "source": [
        "from google.colab import files\n",
        "uploaded = files.upload()"
      ],
      "execution_count": 25,
      "outputs": [
        {
          "output_type": "display_data",
          "data": {
            "text/html": [
              "\n",
              "     <input type=\"file\" id=\"files-65ded8d4-1261-44a5-be5b-68fc6efb1f78\" name=\"files[]\" multiple disabled\n",
              "        style=\"border:none\" />\n",
              "     <output id=\"result-65ded8d4-1261-44a5-be5b-68fc6efb1f78\">\n",
              "      Upload widget is only available when the cell has been executed in the\n",
              "      current browser session. Please rerun this cell to enable.\n",
              "      </output>\n",
              "      <script src=\"/nbextensions/google.colab/files.js\"></script> "
            ],
            "text/plain": [
              "<IPython.core.display.HTML object>"
            ]
          },
          "metadata": {
            "tags": []
          }
        },
        {
          "output_type": "stream",
          "text": [
            "Saving Khouz. Steel.csv to Khouz. Steel.csv\n"
          ],
          "name": "stdout"
        }
      ]
    },
    {
      "cell_type": "code",
      "metadata": {
        "id": "-9IDf9qODouQ",
        "colab": {
          "base_uri": "https://localhost:8080/",
          "height": 419
        },
        "outputId": "a318b791-5b42-4d23-efa7-b9331c7b2e73"
      },
      "source": [
        "#Store and look at the data\n",
        "#df = pd.read_csv('Mehrcam Pars-a.csv')\n",
        "df = pd.read_csv('Khouz. Steel.csv')\n",
        "df"
      ],
      "execution_count": 26,
      "outputs": [
        {
          "output_type": "execute_result",
          "data": {
            "text/html": [
              "<div>\n",
              "<style scoped>\n",
              "    .dataframe tbody tr th:only-of-type {\n",
              "        vertical-align: middle;\n",
              "    }\n",
              "\n",
              "    .dataframe tbody tr th {\n",
              "        vertical-align: top;\n",
              "    }\n",
              "\n",
              "    .dataframe thead th {\n",
              "        text-align: right;\n",
              "    }\n",
              "</style>\n",
              "<table border=\"1\" class=\"dataframe\">\n",
              "  <thead>\n",
              "    <tr style=\"text-align: right;\">\n",
              "      <th></th>\n",
              "      <th>&lt;TICKER&gt;</th>\n",
              "      <th>&lt;DTYYYYMMDD&gt;</th>\n",
              "      <th>&lt;OPEN&gt;</th>\n",
              "      <th>&lt;HIGH&gt;</th>\n",
              "      <th>&lt;LOW&gt;</th>\n",
              "      <th>&lt;CLOSE&gt;</th>\n",
              "      <th>&lt;VOL&gt;</th>\n",
              "      <th>&lt;OPENINT&gt;</th>\n",
              "      <th>&lt;OPENINT&gt;.1</th>\n",
              "      <th>&lt;OPENINT&gt;.2</th>\n",
              "    </tr>\n",
              "  </thead>\n",
              "  <tbody>\n",
              "    <tr>\n",
              "      <th>0</th>\n",
              "      <td>Khouz. Steel</td>\n",
              "      <td>20200101</td>\n",
              "      <td>10350.0</td>\n",
              "      <td>10866.0</td>\n",
              "      <td>10350.0</td>\n",
              "      <td>10809.0</td>\n",
              "      <td>18569273</td>\n",
              "      <td>2.007220e+11</td>\n",
              "      <td>2671</td>\n",
              "      <td>10349.0</td>\n",
              "    </tr>\n",
              "    <tr>\n",
              "      <th>1</th>\n",
              "      <td>Khouz. Steel</td>\n",
              "      <td>20200104</td>\n",
              "      <td>10269.0</td>\n",
              "      <td>10354.0</td>\n",
              "      <td>10269.0</td>\n",
              "      <td>10270.0</td>\n",
              "      <td>29996095</td>\n",
              "      <td>3.080639e+11</td>\n",
              "      <td>2073</td>\n",
              "      <td>10809.0</td>\n",
              "    </tr>\n",
              "    <tr>\n",
              "      <th>2</th>\n",
              "      <td>Khouz. Steel</td>\n",
              "      <td>20200105</td>\n",
              "      <td>10173.0</td>\n",
              "      <td>10699.0</td>\n",
              "      <td>10173.0</td>\n",
              "      <td>10467.0</td>\n",
              "      <td>4174411</td>\n",
              "      <td>4.369224e+10</td>\n",
              "      <td>1152</td>\n",
              "      <td>10270.0</td>\n",
              "    </tr>\n",
              "    <tr>\n",
              "      <th>3</th>\n",
              "      <td>Khouz. Steel</td>\n",
              "      <td>20200107</td>\n",
              "      <td>10417.0</td>\n",
              "      <td>10799.0</td>\n",
              "      <td>9944.0</td>\n",
              "      <td>10090.0</td>\n",
              "      <td>10980314</td>\n",
              "      <td>1.107941e+11</td>\n",
              "      <td>1503</td>\n",
              "      <td>10467.0</td>\n",
              "    </tr>\n",
              "    <tr>\n",
              "      <th>4</th>\n",
              "      <td>Khouz. Steel</td>\n",
              "      <td>20200108</td>\n",
              "      <td>9889.0</td>\n",
              "      <td>10198.0</td>\n",
              "      <td>9889.0</td>\n",
              "      <td>9898.0</td>\n",
              "      <td>15358492</td>\n",
              "      <td>1.520240e+11</td>\n",
              "      <td>1219</td>\n",
              "      <td>10090.0</td>\n",
              "    </tr>\n",
              "    <tr>\n",
              "      <th>...</th>\n",
              "      <td>...</td>\n",
              "      <td>...</td>\n",
              "      <td>...</td>\n",
              "      <td>...</td>\n",
              "      <td>...</td>\n",
              "      <td>...</td>\n",
              "      <td>...</td>\n",
              "      <td>...</td>\n",
              "      <td>...</td>\n",
              "      <td>...</td>\n",
              "    </tr>\n",
              "    <tr>\n",
              "      <th>200</th>\n",
              "      <td>Khouz. Steel</td>\n",
              "      <td>20201110</td>\n",
              "      <td>32300.0</td>\n",
              "      <td>32960.0</td>\n",
              "      <td>31200.0</td>\n",
              "      <td>32070.0</td>\n",
              "      <td>10729265</td>\n",
              "      <td>3.440574e+11</td>\n",
              "      <td>4323</td>\n",
              "      <td>31610.0</td>\n",
              "    </tr>\n",
              "    <tr>\n",
              "      <th>201</th>\n",
              "      <td>Khouz. Steel</td>\n",
              "      <td>20201111</td>\n",
              "      <td>32200.0</td>\n",
              "      <td>33670.0</td>\n",
              "      <td>31320.0</td>\n",
              "      <td>33040.0</td>\n",
              "      <td>16873453</td>\n",
              "      <td>5.574328e+11</td>\n",
              "      <td>3904</td>\n",
              "      <td>32070.0</td>\n",
              "    </tr>\n",
              "    <tr>\n",
              "      <th>202</th>\n",
              "      <td>Khouz. Steel</td>\n",
              "      <td>20201114</td>\n",
              "      <td>34690.0</td>\n",
              "      <td>34690.0</td>\n",
              "      <td>34420.0</td>\n",
              "      <td>34690.0</td>\n",
              "      <td>5877915</td>\n",
              "      <td>2.039034e+11</td>\n",
              "      <td>833</td>\n",
              "      <td>33040.0</td>\n",
              "    </tr>\n",
              "    <tr>\n",
              "      <th>203</th>\n",
              "      <td>Khouz. Steel</td>\n",
              "      <td>20201115</td>\n",
              "      <td>36420.0</td>\n",
              "      <td>36420.0</td>\n",
              "      <td>35040.0</td>\n",
              "      <td>36080.0</td>\n",
              "      <td>29535750</td>\n",
              "      <td>1.065703e+12</td>\n",
              "      <td>6798</td>\n",
              "      <td>34690.0</td>\n",
              "    </tr>\n",
              "    <tr>\n",
              "      <th>204</th>\n",
              "      <td>Khouz. Steel</td>\n",
              "      <td>20201116</td>\n",
              "      <td>36100.0</td>\n",
              "      <td>37880.0</td>\n",
              "      <td>35500.0</td>\n",
              "      <td>37140.0</td>\n",
              "      <td>16047891</td>\n",
              "      <td>5.959556e+11</td>\n",
              "      <td>5613</td>\n",
              "      <td>36080.0</td>\n",
              "    </tr>\n",
              "  </tbody>\n",
              "</table>\n",
              "<p>205 rows × 10 columns</p>\n",
              "</div>"
            ],
            "text/plain": [
              "         <TICKER>  <DTYYYYMMDD>  ...  <OPENINT>.1  <OPENINT>.2\n",
              "0    Khouz. Steel      20200101  ...         2671      10349.0\n",
              "1    Khouz. Steel      20200104  ...         2073      10809.0\n",
              "2    Khouz. Steel      20200105  ...         1152      10270.0\n",
              "3    Khouz. Steel      20200107  ...         1503      10467.0\n",
              "4    Khouz. Steel      20200108  ...         1219      10090.0\n",
              "..            ...           ...  ...          ...          ...\n",
              "200  Khouz. Steel      20201110  ...         4323      31610.0\n",
              "201  Khouz. Steel      20201111  ...         3904      32070.0\n",
              "202  Khouz. Steel      20201114  ...          833      33040.0\n",
              "203  Khouz. Steel      20201115  ...         6798      34690.0\n",
              "204  Khouz. Steel      20201116  ...         5613      36080.0\n",
              "\n",
              "[205 rows x 10 columns]"
            ]
          },
          "metadata": {
            "tags": []
          },
          "execution_count": 26
        }
      ]
    },
    {
      "cell_type": "code",
      "metadata": {
        "id": "iAj9mYolEh9n",
        "colab": {
          "base_uri": "https://localhost:8080/",
          "height": 80
        },
        "outputId": "11fe1568-4882-42f5-dea6-b3a30717707d"
      },
      "source": [
        "#in this program we want to predict the price of last day of above date (last one is day 1/31/2017)\n",
        "#Get and print the last day (for camparing with that one we predict)\n",
        "actual_price = df.tail(1)\n",
        "actual_price"
      ],
      "execution_count": 27,
      "outputs": [
        {
          "output_type": "execute_result",
          "data": {
            "text/html": [
              "<div>\n",
              "<style scoped>\n",
              "    .dataframe tbody tr th:only-of-type {\n",
              "        vertical-align: middle;\n",
              "    }\n",
              "\n",
              "    .dataframe tbody tr th {\n",
              "        vertical-align: top;\n",
              "    }\n",
              "\n",
              "    .dataframe thead th {\n",
              "        text-align: right;\n",
              "    }\n",
              "</style>\n",
              "<table border=\"1\" class=\"dataframe\">\n",
              "  <thead>\n",
              "    <tr style=\"text-align: right;\">\n",
              "      <th></th>\n",
              "      <th>&lt;TICKER&gt;</th>\n",
              "      <th>&lt;DTYYYYMMDD&gt;</th>\n",
              "      <th>&lt;OPEN&gt;</th>\n",
              "      <th>&lt;HIGH&gt;</th>\n",
              "      <th>&lt;LOW&gt;</th>\n",
              "      <th>&lt;CLOSE&gt;</th>\n",
              "      <th>&lt;VOL&gt;</th>\n",
              "      <th>&lt;OPENINT&gt;</th>\n",
              "      <th>&lt;OPENINT&gt;.1</th>\n",
              "      <th>&lt;OPENINT&gt;.2</th>\n",
              "    </tr>\n",
              "  </thead>\n",
              "  <tbody>\n",
              "    <tr>\n",
              "      <th>204</th>\n",
              "      <td>Khouz. Steel</td>\n",
              "      <td>20201116</td>\n",
              "      <td>36100.0</td>\n",
              "      <td>37880.0</td>\n",
              "      <td>35500.0</td>\n",
              "      <td>37140.0</td>\n",
              "      <td>16047891</td>\n",
              "      <td>5.959556e+11</td>\n",
              "      <td>5613</td>\n",
              "      <td>36080.0</td>\n",
              "    </tr>\n",
              "  </tbody>\n",
              "</table>\n",
              "</div>"
            ],
            "text/plain": [
              "         <TICKER>  <DTYYYYMMDD>  ...  <OPENINT>.1  <OPENINT>.2\n",
              "204  Khouz. Steel      20201116  ...         5613      36080.0\n",
              "\n",
              "[1 rows x 10 columns]"
            ]
          },
          "metadata": {
            "tags": []
          },
          "execution_count": 27
        }
      ]
    },
    {
      "cell_type": "code",
      "metadata": {
        "id": "Z9oLMgSJFZcT",
        "colab": {
          "base_uri": "https://localhost:8080/",
          "height": 419
        },
        "outputId": "ab53a311-8c8c-4f7e-e61a-9cb2bc80e4e8"
      },
      "source": [
        "#prepare the data for training\n",
        "#removing the last day of data beacuse we want to predict\n",
        "df=df.head(len(df)-1) # 1 day from last sequence removed\n",
        "df"
      ],
      "execution_count": 28,
      "outputs": [
        {
          "output_type": "execute_result",
          "data": {
            "text/html": [
              "<div>\n",
              "<style scoped>\n",
              "    .dataframe tbody tr th:only-of-type {\n",
              "        vertical-align: middle;\n",
              "    }\n",
              "\n",
              "    .dataframe tbody tr th {\n",
              "        vertical-align: top;\n",
              "    }\n",
              "\n",
              "    .dataframe thead th {\n",
              "        text-align: right;\n",
              "    }\n",
              "</style>\n",
              "<table border=\"1\" class=\"dataframe\">\n",
              "  <thead>\n",
              "    <tr style=\"text-align: right;\">\n",
              "      <th></th>\n",
              "      <th>&lt;TICKER&gt;</th>\n",
              "      <th>&lt;DTYYYYMMDD&gt;</th>\n",
              "      <th>&lt;OPEN&gt;</th>\n",
              "      <th>&lt;HIGH&gt;</th>\n",
              "      <th>&lt;LOW&gt;</th>\n",
              "      <th>&lt;CLOSE&gt;</th>\n",
              "      <th>&lt;VOL&gt;</th>\n",
              "      <th>&lt;OPENINT&gt;</th>\n",
              "      <th>&lt;OPENINT&gt;.1</th>\n",
              "      <th>&lt;OPENINT&gt;.2</th>\n",
              "    </tr>\n",
              "  </thead>\n",
              "  <tbody>\n",
              "    <tr>\n",
              "      <th>0</th>\n",
              "      <td>Khouz. Steel</td>\n",
              "      <td>20200101</td>\n",
              "      <td>10350.0</td>\n",
              "      <td>10866.0</td>\n",
              "      <td>10350.0</td>\n",
              "      <td>10809.0</td>\n",
              "      <td>18569273</td>\n",
              "      <td>2.007220e+11</td>\n",
              "      <td>2671</td>\n",
              "      <td>10349.0</td>\n",
              "    </tr>\n",
              "    <tr>\n",
              "      <th>1</th>\n",
              "      <td>Khouz. Steel</td>\n",
              "      <td>20200104</td>\n",
              "      <td>10269.0</td>\n",
              "      <td>10354.0</td>\n",
              "      <td>10269.0</td>\n",
              "      <td>10270.0</td>\n",
              "      <td>29996095</td>\n",
              "      <td>3.080639e+11</td>\n",
              "      <td>2073</td>\n",
              "      <td>10809.0</td>\n",
              "    </tr>\n",
              "    <tr>\n",
              "      <th>2</th>\n",
              "      <td>Khouz. Steel</td>\n",
              "      <td>20200105</td>\n",
              "      <td>10173.0</td>\n",
              "      <td>10699.0</td>\n",
              "      <td>10173.0</td>\n",
              "      <td>10467.0</td>\n",
              "      <td>4174411</td>\n",
              "      <td>4.369224e+10</td>\n",
              "      <td>1152</td>\n",
              "      <td>10270.0</td>\n",
              "    </tr>\n",
              "    <tr>\n",
              "      <th>3</th>\n",
              "      <td>Khouz. Steel</td>\n",
              "      <td>20200107</td>\n",
              "      <td>10417.0</td>\n",
              "      <td>10799.0</td>\n",
              "      <td>9944.0</td>\n",
              "      <td>10090.0</td>\n",
              "      <td>10980314</td>\n",
              "      <td>1.107941e+11</td>\n",
              "      <td>1503</td>\n",
              "      <td>10467.0</td>\n",
              "    </tr>\n",
              "    <tr>\n",
              "      <th>4</th>\n",
              "      <td>Khouz. Steel</td>\n",
              "      <td>20200108</td>\n",
              "      <td>9889.0</td>\n",
              "      <td>10198.0</td>\n",
              "      <td>9889.0</td>\n",
              "      <td>9898.0</td>\n",
              "      <td>15358492</td>\n",
              "      <td>1.520240e+11</td>\n",
              "      <td>1219</td>\n",
              "      <td>10090.0</td>\n",
              "    </tr>\n",
              "    <tr>\n",
              "      <th>...</th>\n",
              "      <td>...</td>\n",
              "      <td>...</td>\n",
              "      <td>...</td>\n",
              "      <td>...</td>\n",
              "      <td>...</td>\n",
              "      <td>...</td>\n",
              "      <td>...</td>\n",
              "      <td>...</td>\n",
              "      <td>...</td>\n",
              "      <td>...</td>\n",
              "    </tr>\n",
              "    <tr>\n",
              "      <th>199</th>\n",
              "      <td>Khouz. Steel</td>\n",
              "      <td>20201109</td>\n",
              "      <td>31150.0</td>\n",
              "      <td>33840.0</td>\n",
              "      <td>30910.0</td>\n",
              "      <td>31610.0</td>\n",
              "      <td>28380674</td>\n",
              "      <td>8.971919e+11</td>\n",
              "      <td>5800</td>\n",
              "      <td>32530.0</td>\n",
              "    </tr>\n",
              "    <tr>\n",
              "      <th>200</th>\n",
              "      <td>Khouz. Steel</td>\n",
              "      <td>20201110</td>\n",
              "      <td>32300.0</td>\n",
              "      <td>32960.0</td>\n",
              "      <td>31200.0</td>\n",
              "      <td>32070.0</td>\n",
              "      <td>10729265</td>\n",
              "      <td>3.440574e+11</td>\n",
              "      <td>4323</td>\n",
              "      <td>31610.0</td>\n",
              "    </tr>\n",
              "    <tr>\n",
              "      <th>201</th>\n",
              "      <td>Khouz. Steel</td>\n",
              "      <td>20201111</td>\n",
              "      <td>32200.0</td>\n",
              "      <td>33670.0</td>\n",
              "      <td>31320.0</td>\n",
              "      <td>33040.0</td>\n",
              "      <td>16873453</td>\n",
              "      <td>5.574328e+11</td>\n",
              "      <td>3904</td>\n",
              "      <td>32070.0</td>\n",
              "    </tr>\n",
              "    <tr>\n",
              "      <th>202</th>\n",
              "      <td>Khouz. Steel</td>\n",
              "      <td>20201114</td>\n",
              "      <td>34690.0</td>\n",
              "      <td>34690.0</td>\n",
              "      <td>34420.0</td>\n",
              "      <td>34690.0</td>\n",
              "      <td>5877915</td>\n",
              "      <td>2.039034e+11</td>\n",
              "      <td>833</td>\n",
              "      <td>33040.0</td>\n",
              "    </tr>\n",
              "    <tr>\n",
              "      <th>203</th>\n",
              "      <td>Khouz. Steel</td>\n",
              "      <td>20201115</td>\n",
              "      <td>36420.0</td>\n",
              "      <td>36420.0</td>\n",
              "      <td>35040.0</td>\n",
              "      <td>36080.0</td>\n",
              "      <td>29535750</td>\n",
              "      <td>1.065703e+12</td>\n",
              "      <td>6798</td>\n",
              "      <td>34690.0</td>\n",
              "    </tr>\n",
              "  </tbody>\n",
              "</table>\n",
              "<p>204 rows × 10 columns</p>\n",
              "</div>"
            ],
            "text/plain": [
              "         <TICKER>  <DTYYYYMMDD>  ...  <OPENINT>.1  <OPENINT>.2\n",
              "0    Khouz. Steel      20200101  ...         2671      10349.0\n",
              "1    Khouz. Steel      20200104  ...         2073      10809.0\n",
              "2    Khouz. Steel      20200105  ...         1152      10270.0\n",
              "3    Khouz. Steel      20200107  ...         1503      10467.0\n",
              "4    Khouz. Steel      20200108  ...         1219      10090.0\n",
              "..            ...           ...  ...          ...          ...\n",
              "199  Khouz. Steel      20201109  ...         5800      32530.0\n",
              "200  Khouz. Steel      20201110  ...         4323      31610.0\n",
              "201  Khouz. Steel      20201111  ...         3904      32070.0\n",
              "202  Khouz. Steel      20201114  ...          833      33040.0\n",
              "203  Khouz. Steel      20201115  ...         6798      34690.0\n",
              "\n",
              "[204 rows x 10 columns]"
            ]
          },
          "metadata": {
            "tags": []
          },
          "execution_count": 28
        }
      ]
    },
    {
      "cell_type": "code",
      "metadata": {
        "id": "exad8Of8GNOg"
      },
      "source": [
        "#Create an empty list to store the independet and dependet data\n",
        "days=list()\n",
        "close_prices=list()"
      ],
      "execution_count": 29,
      "outputs": []
    },
    {
      "cell_type": "code",
      "metadata": {
        "id": "6aHSpwFMGuwe",
        "colab": {
          "base_uri": "https://localhost:8080/"
        },
        "outputId": "50900d84-3899-4661-b9e1-7440926f7008"
      },
      "source": [
        "#Get the date and close price\n",
        "df_days=df.loc[:,'<DTYYYYMMDD>']\n",
        "df_close=df.loc[:, '<CLOSE>']\n",
        "df_days"
      ],
      "execution_count": 30,
      "outputs": [
        {
          "output_type": "execute_result",
          "data": {
            "text/plain": [
              "0      20200101\n",
              "1      20200104\n",
              "2      20200105\n",
              "3      20200107\n",
              "4      20200108\n",
              "         ...   \n",
              "199    20201109\n",
              "200    20201110\n",
              "201    20201111\n",
              "202    20201114\n",
              "203    20201115\n",
              "Name: <DTYYYYMMDD>, Length: 204, dtype: int64"
            ]
          },
          "metadata": {
            "tags": []
          },
          "execution_count": 30
        }
      ]
    },
    {
      "cell_type": "code",
      "metadata": {
        "id": "0h6HWlPJHo5a"
      },
      "source": [
        "#Create the independent data set\n",
        "for day in df_days:\n",
        "  days.append( [int(day)-20200000])\n",
        "\n",
        "#Create the dependent data set\n",
        "for close_price in df_close:\n",
        "  close_prices.append(float(close_price))"
      ],
      "execution_count": 31,
      "outputs": []
    },
    {
      "cell_type": "code",
      "metadata": {
        "id": "BGyM2ICzJGrZ"
      },
      "source": [
        "#Create the 3 Support Vector Regression Model (SVR model)"
      ],
      "execution_count": null,
      "outputs": []
    },
    {
      "cell_type": "code",
      "metadata": {
        "colab": {
          "base_uri": "https://localhost:8080/"
        },
        "id": "KjQ34ifeYmo2",
        "outputId": "f7cc8e2b-82ee-41a4-b98d-f0ae0816c981"
      },
      "source": [
        "#Create and train a SVR Model using a linear kernel\n",
        "lin_svr = SVR(kernel='linear',C=1000.0)\n",
        "lin_svr.fit(days,close_prices)"
      ],
      "execution_count": 32,
      "outputs": [
        {
          "output_type": "execute_result",
          "data": {
            "text/plain": [
              "SVR(C=1000.0, cache_size=200, coef0=0.0, degree=3, epsilon=0.1, gamma='scale',\n",
              "    kernel='linear', max_iter=-1, shrinking=True, tol=0.001, verbose=False)"
            ]
          },
          "metadata": {
            "tags": []
          },
          "execution_count": 32
        }
      ]
    },
    {
      "cell_type": "code",
      "metadata": {
        "colab": {
          "base_uri": "https://localhost:8080/"
        },
        "id": "YdzlBtZmYqIS",
        "outputId": "cf6b81cb-d6d0-4555-86a1-dafd9e7aa11b"
      },
      "source": [
        "#Create and train a SVR Model using a polinomial kernel\n",
        "poly_svr = SVR(kernel='poly',C=1000.0, degree=2)\n",
        "poly_svr.fit(days,close_prices)"
      ],
      "execution_count": 33,
      "outputs": [
        {
          "output_type": "execute_result",
          "data": {
            "text/plain": [
              "SVR(C=1000.0, cache_size=200, coef0=0.0, degree=2, epsilon=0.1, gamma='scale',\n",
              "    kernel='poly', max_iter=-1, shrinking=True, tol=0.001, verbose=False)"
            ]
          },
          "metadata": {
            "tags": []
          },
          "execution_count": 33
        }
      ]
    },
    {
      "cell_type": "code",
      "metadata": {
        "colab": {
          "base_uri": "https://localhost:8080/"
        },
        "id": "xA6xB-ibYsc1",
        "outputId": "4b7fcb00-ec40-4b68-8f10-5ab6fa6c0344"
      },
      "source": [
        "#Create and train a SVR Model using a rbf kernel\n",
        "rbf_svr = SVR(kernel='rbf', C=1000.0, gamma = 0.15 )\n",
        "rbf_svr.fit(days,close_prices)"
      ],
      "execution_count": 34,
      "outputs": [
        {
          "output_type": "execute_result",
          "data": {
            "text/plain": [
              "SVR(C=1000.0, cache_size=200, coef0=0.0, degree=3, epsilon=0.1, gamma=0.15,\n",
              "    kernel='rbf', max_iter=-1, shrinking=True, tol=0.001, verbose=False)"
            ]
          },
          "metadata": {
            "tags": []
          },
          "execution_count": 34
        }
      ]
    },
    {
      "cell_type": "code",
      "metadata": {
        "id": "Oh_ioMG1Mefa",
        "colab": {
          "base_uri": "https://localhost:8080/",
          "height": 425
        },
        "outputId": "f8ce6097-2053-4061-9fc6-a7872f231538"
      },
      "source": [
        "#Plot the models on a graph to see which has the best fit to the orignal data\n",
        "\n",
        "plt.figure(figsize=(15,7))\n",
        "plt.scatter(days,close_prices, color='black', label='original data')\n",
        "plt.plot(days,rbf_svr.predict(days), color='green',label='RBF model' )\n",
        "plt.plot(days,poly_svr.predict(days), color='orange',label='poly model' )\n",
        "plt.plot(days,lin_svr.predict(days), color='purple',label='linear model' )\n",
        "plt.plot(days,tree.predict(days), color='red',label='tree model' )\n",
        "plt.legend()\n",
        "plt.show()"
      ],
      "execution_count": 36,
      "outputs": [
        {
          "output_type": "display_data",
          "data": {
            "image/png": "[encoded data removed]",
            "text/plain": [
              "<Figure size 1080x504 with 1 Axes>"
            ]
          },
          "metadata": {
            "tags": []
          }
        }
      ]
    },
    {
      "cell_type": "code",
      "metadata": {
        "id": "eUiSJKpTPRTY",
        "colab": {
          "base_uri": "https://localhost:8080/"
        },
        "outputId": "552c057d-9ffb-4b1b-cf6a-b713d691d314"
      },
      "source": [
        "#Show the predicted price for given day (for compare we consider the day we remove from secquence  1/31/2017)\n",
        "day=[[1116],[1117],[1118],[1121]]\n",
        "\n",
        "print('The RBF SVR predict:',rbf_svr.predict(day))\n",
        "print('The POLY SVR predict:',poly_svr.predict(day))\n",
        "print('The LINEAR SVR predict:',lin_svr.predict(day))\n",
        "\n",
        "#print the actual price\n",
        "#print('actual price:',actual_price['<CLOSE>'][198]) #last row number"
      ],
      "execution_count": 38,
      "outputs": [
        {
          "output_type": "stream",
          "text": [
            "The RBF SVR predict: [29973.13473903 29348.60762187 28886.04712236 28540.53668602]\n",
            "The POLY SVR predict: [63114.43103371 63208.19559024 63302.04412756 63584.09362429]\n",
            "The LINEAR SVR predict: [48772.37098326 48812.27775206 48852.18451323 48971.9047891 ]\n",
            "The Tree predict: [36080. 36080. 36080. 36080.]\n"
          ],
          "name": "stdout"
        }
      ]
    }
  ]
}